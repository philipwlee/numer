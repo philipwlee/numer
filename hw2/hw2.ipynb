{
 "cells": [
  {
   "cell_type": "code",
   "execution_count": 1,
   "metadata": {
    "tags": []
   },
   "outputs": [],
   "source": [
    "import numpy as np\n",
    "from scipy.stats import norm"
   ]
  },
  {
   "cell_type": "code",
   "execution_count": 2,
   "metadata": {
    "tags": []
   },
   "outputs": [],
   "source": [
    "class Dynamics:\n",
    "    pass"
   ]
  },
  {
   "cell_type": "code",
   "execution_count": 3,
   "metadata": {
    "tags": []
   },
   "outputs": [],
   "source": [
    "hw2dynamics=Dynamics()\n",
    "hw2dynamics.S0 = 100\n",
    "hw2dynamics.r = 0.06\n",
    "hw2dynamics.q = 0.01\n",
    "hw2dynamics.maxvol = 0.6\n",
    "hw2dynamics.localvol = lambda S,t: np.minimum(0.2+5*np.log(S/100)**2+0.1*np.exp(-t), 0.6)\n",
    "\n",
    "# Note that hw2dynamics.localvol is a function \n",
    "# that may be invoked in the usual way, for example:\n",
    "# hw2dynamics.localvol( exchangerate , time )"
   ]
  },
  {
   "cell_type": "code",
   "execution_count": 4,
   "metadata": {
    "tags": []
   },
   "outputs": [],
   "source": [
    "class Contract:\n",
    "    pass"
   ]
  },
  {
   "cell_type": "code",
   "execution_count": 5,
   "metadata": {
    "tags": []
   },
   "outputs": [],
   "source": [
    "hw2contract=Contract()\n",
    "hw2contract.putexpiry = 0.75;\n",
    "hw2contract.putstrike = 95;\n",
    "hw2contract.callexpiry = 0.25;\n",
    "hw2contract.callstrike = 10;"
   ]
  },
  {
   "cell_type": "code",
   "execution_count": 6,
   "metadata": {
    "tags": []
   },
   "outputs": [],
   "source": [
    "class Tree:\n",
    "    pass"
   ]
  },
  {
   "cell_type": "code",
   "execution_count": 7,
   "metadata": {
    "tags": []
   },
   "outputs": [],
   "source": [
    "hw2tree=Tree()\n",
    "hw2tree.N=60000  #change if necessary to get $0.01 accuracy, in your judgment"
   ]
  },
  {
   "cell_type": "code",
   "execution_count": 8,
   "metadata": {},
   "outputs": [],
   "source": [
    "# You complete the coding of this function\n",
    "\n",
    "def pricer_compound_localvol_trinom(contract,dynamics,tree):\n",
    "    def calc_dx(avg_sig, max_sig, deltat):\n",
    "        return max(avg_sig * (3*deltat)**0.5, max_sig * (deltat)**0.5)\n",
    "    \n",
    "    def calc_nu(r, sigma):\n",
    "        return r-sigma**2/2\n",
    "\n",
    "    def calc_Ps(sigma, nu, deltat, deltax):\n",
    "        inside = deltat * (sigma**2 + nu**2 * deltat) / deltax**2\n",
    "        back = nu * deltat / deltax\n",
    "        Pu = 1/2 * (inside + back)\n",
    "        Pd = 1/2 * (inside - back)\n",
    "        Pm = 1 - inside\n",
    "        return Pu, Pd, Pm\n",
    "    \n",
    "    def back_induct(r, deltat, Pu, Pd, Pm, Cu, Cd, Cm):\n",
    "        return np.exp(-r*deltat) * (Pu*Cu + Pd*Cd + Pm*Cm)\n",
    "    \n",
    "    S0, r, q, max_sig, localvol = dynamics.S0, dynamics.r, dynamics.q, dynamics.maxvol, dynamics.localvol\n",
    "    putT, putK, callT, callK = contract.putexpiry, contract.putstrike, contract.callexpiry, contract.callstrike\n",
    "    N = tree.N\n",
    "    \n",
    "    deltat = putT/N # Fill this in with a scalar.\n",
    "    avg_sig = localvol(S0, 0)\n",
    "    deltax = calc_dx(avg_sig, max_sig, deltat)  #Fill this in with a scalar.\n",
    "    \n",
    "    S=S0*np.exp(np.linspace(N, -N, num=2*N+1, endpoint=True)*deltax)\n",
    "        \n",
    "    putV = np.maximum(putK-S,0)   #an array of time-T option prices.    \n",
    "        \n",
    "    #Next, induct backwards to time 0, updating the optionprice array \n",
    "    #Hint: if x is an array, then what are x[2:] and x[1:-1] and x[:-2]\n",
    "    timelineP = np.linspace(N-1, 0, num=N, endpoint=True)*deltat\n",
    "    callT_less1 = -1\n",
    "    for t in timelineP:\n",
    "        S = S[1:-1]\n",
    "        sigma = localvol(S, t)\n",
    "        nu = calc_nu(r-q, sigma) # complete this \n",
    "        Pu, Pd, Pm = calc_Ps(sigma, nu, deltat, deltax)\n",
    "        \n",
    "        # insert lines of code here if needed\n",
    "        putV = back_induct(r, deltat, Pu, Pd, Pm, putV[:-2], putV[2:], putV[1:-1])   #complete this\n",
    "        putV = np.maximum(putV, putK-S)\n",
    "        \n",
    "        # Steal put prices @ callT to price call\n",
    "        if abs(t-callT) < deltat/2:\n",
    "            callV = np.maximum(putV-callK, 0)#putV\n",
    "            callS = S\n",
    "            callT_less1 = t\n",
    "            \n",
    "        if t < callT_less1:\n",
    "            callV = back_induct(r, deltat, Pu, Pd, Pm, callV[:-2], callV[2:], callV[1:-1])\n",
    "    \n",
    "    price_of_put = putV[0] #write code to compute this\n",
    "    price_of_call_on_put = callV[0] #write code to compute this\n",
    "    \n",
    "    return (price_of_put, price_of_call_on_put)"
   ]
  },
  {
   "cell_type": "markdown",
   "metadata": {},
   "source": [
    "# Problem 1\n",
    "\n",
    "The Gold Dragon Coin (GDC) is a unit of currency in Westeros. Let S denote the GDC/USD exchange rate (the USD value of 1 GDC). Assume S has dynamics..."
   ]
  },
  {
   "cell_type": "code",
   "execution_count": 9,
   "metadata": {},
   "outputs": [
    {
     "name": "stdout",
     "output_type": "stream",
     "text": [
      "1(a) American Put on GDC: 7.0073\n",
      "1(a) European Call on GDC Put: 1.5924\n"
     ]
    }
   ],
   "source": [
    "(answer_part_a, answer_part_b) = pricer_compound_localvol_trinom(hw2contract,hw2dynamics,hw2tree)\n",
    "print(f\"1(a) American Put on GDC: {answer_part_a:.4f}\")\n",
    "print(f\"1(a) European Call on GDC Put: {answer_part_b:.4f}\")"
   ]
  },
  {
   "cell_type": "code",
   "execution_count": 10,
   "metadata": {},
   "outputs": [
    {
     "name": "stdout",
     "output_type": "stream",
     "text": [
      "Put lower Bound: 5.7944\n",
      "Put upper Bound: 15.2238 (neglecting early exercise)\n"
     ]
    }
   ],
   "source": [
    "def BScallPrice(sigma,S,rGrow,r,K,T):\n",
    "    F=S*np.exp(rGrow*T)\n",
    "    sd = sigma*np.sqrt(T)\n",
    "    d1 = np.log(F/K)/sd+sd/2\n",
    "    d2 = d1-sd\n",
    "    return np.exp(-r*T)*(F*norm.cdf(d1)-K*norm.cdf(d2))\n",
    "\n",
    "def BSputPrice(sigma,S,rGrow,r,K,T):\n",
    "    F=S*np.exp(rGrow*T)\n",
    "    sd = sigma*np.sqrt(T)\n",
    "    d1 = np.log(F/K)/sd+sd/2\n",
    "    d2 = d1-sd\n",
    "    return np.exp(-r*T)*K*norm.cdf(-d2)-F*norm.cdf(-d1)\n",
    "\n",
    "sigma = 0.3\n",
    "S = hw2dynamics.S0\n",
    "rGrow = 0\n",
    "r = hw2dynamics.r\n",
    "K = hw2contract.putstrike\n",
    "T = hw2contract.putexpiry\n",
    "\n",
    "lower = BSputPrice(sigma,S,rGrow,r,K,T)\n",
    "sigma = 0.6\n",
    "upper = BSputPrice(sigma,S,rGrow,r,K,T)\n",
    "\n",
    "print(f\"Put lower Bound: {lower:.4f}\")\n",
    "print(f\"Put upper Bound: {upper:.4f} (neglecting early exercise)\")"
   ]
  },
  {
   "cell_type": "markdown",
   "metadata": {},
   "source": [
    "# Problem 2\n",
    "\n",
    "(a) \n",
    "\n",
    "$$\\begin{aligned}\n",
    "    \\Delta &= \\frac{dV}{dS} = \\Phi(d_1) \\\\\n",
    "    d_1 &= \\frac{1}{\\sigma \\sqrt{T}} \\bigg[ log(\\frac{S}{K})+(r+\\frac{\\sigma^2}{2})(T) \\bigg] \\\\\n",
    "        &= \\frac{1}{\\sigma \\sqrt{T}} \\bigg[ (r+\\frac{\\sigma^2}{2})(T) \\bigg] \\\\\n",
    "    \\\\\n",
    "    d_1 &\\to 0: \\\\\n",
    "    \\Phi(d_1) &= \\Phi(0)+\\phi(0)d_1+\\frac{1}{2}\\phi'(0)d_1^2+O(d_1^3) \\\\\n",
    "        &\\approx \\frac{1}{2}+\\frac{1}{\\sqrt{2\\pi}}d_1+0+0 \\\\\n",
    "        &= \\frac{1}{2}+\\frac{1}{\\sqrt{2\\pi}}\\bigg( \\frac{1}{\\sigma \\sqrt{T}} \\bigg[ (r+\\frac{\\sigma^2}{2})(T) \\bigg] \\bigg) \\\\\n",
    "        &= \\frac{1}{2}+\\frac{1}{\\sqrt{2\\pi}}\\bigg( \\frac{1}{0.2 \\sqrt{0.25}} \\bigg[ (0.01+\\frac{0.2^2}{2})(0.25) \\bigg] \\bigg) \\\\\n",
    "        &= \\frac{1}{2}+\\frac{1}{\\sqrt{2\\pi}}\\bigg( 10 \\bigg[ (0.01+0.03)(0.25) \\bigg] \\bigg) \\\\\n",
    "        &= \\frac{1}{2}+\\frac{2}{5}(0.075) \\\\\n",
    "        &= 0.53\n",
    "\\end{aligned}$$"
   ]
  },
  {
   "cell_type": "markdown",
   "metadata": {},
   "source": [
    "(b)\n",
    "\n",
    "$$\\begin{aligned}\n",
    "    C(S+\\Delta S) &= C(S) + \\frac{dC}{dS}(S)(\\Delta S) + \\frac{1}{2}\\frac{d^2C}{dS^2}(S)(\\Delta S)^2 + O(\\Delta S^3)... \\\\\n",
    "    \\\\\n",
    "    S_0 &= 4, C(S_0)=5, S_0\\frac{dC}{dS}(S_0) = 3, \\frac{S_0^2}{100}\\frac{d^2C}{dS^2}(S_0) = 0.02 \\\\\n",
    "    \\frac{dC}{dS}(S_0) &= 0.75, \\frac{d^2C}{dS^2}(S_0) = 0.125 \\\\\n",
    "    \\\\\n",
    "    \\Delta S &= -0.4 \\\\\n",
    "    C(S_0+\\Delta S) &\\approx C(S_0) + \\frac{dC}{dS}(S_0)(\\Delta S) + \\frac{1}{2}\\frac{d^2C}{dS^2}(S_0)(\\Delta S)^2 \\\\\n",
    "    C(4-0.4) &\\approx C(4) + \\frac{dC}{dS}(4)(-0.4) + \\frac{1}{2}\\frac{d^2C}{dS^2}(4)(-0.4)^2 \\\\\n",
    "        &= 5 + 0.75 (-0.4) + \\frac{1}{2}0.125 (-0.4)^2 \\\\\n",
    "        &= 4.71\n",
    "\\end{aligned}$$"
   ]
  },
  {
   "cell_type": "code",
   "execution_count": null,
   "metadata": {},
   "outputs": [],
   "source": []
  }
 ],
 "metadata": {
  "anaconda-cloud": {},
  "kernelspec": {
   "display_name": "Python 3 (ipykernel)",
   "language": "python",
   "name": "python3"
  },
  "language_info": {
   "codemirror_mode": {
    "name": "ipython",
    "version": 3
   },
   "file_extension": ".py",
   "mimetype": "text/x-python",
   "name": "python",
   "nbconvert_exporter": "python",
   "pygments_lexer": "ipython3",
   "version": "3.9.10"
  }
 },
 "nbformat": 4,
 "nbformat_minor": 4
}
