{
 "cells": [
  {
   "cell_type": "markdown",
   "metadata": {},
   "source": [
    "# FINM-32000 HW 2\n",
    "## Carsen Berger\n",
    "## 2/4/22"
   ]
  },
  {
   "cell_type": "code",
   "execution_count": 1,
   "metadata": {
    "ExecuteTime": {
     "end_time": "2022-02-02T21:20:50.091380Z",
     "start_time": "2022-02-02T21:20:49.822509Z"
    }
   },
   "outputs": [],
   "source": [
    "import numpy as np"
   ]
  },
  {
   "cell_type": "markdown",
   "metadata": {},
   "source": [
    "# Problem 1"
   ]
  },
  {
   "cell_type": "code",
   "execution_count": 2,
   "metadata": {
    "ExecuteTime": {
     "end_time": "2022-02-02T21:20:52.092941Z",
     "start_time": "2022-02-02T21:20:52.090495Z"
    }
   },
   "outputs": [],
   "source": [
    "class Dynamics:\n",
    "    pass"
   ]
  },
  {
   "cell_type": "code",
   "execution_count": 3,
   "metadata": {
    "ExecuteTime": {
     "end_time": "2022-02-02T21:21:02.113036Z",
     "start_time": "2022-02-02T21:21:02.109608Z"
    }
   },
   "outputs": [],
   "source": [
    "hw2dynamics = Dynamics()\n",
    "hw2dynamics.S0 = 100\n",
    "hw2dynamics.r = 0.06\n",
    "hw2dynamics.q = 0.01\n",
    "hw2dynamics.maxvol = 0.6\n",
    "hw2dynamics.localvol = lambda S, t: np.minimum(0.2 + 5 * np.log(S / 100) ** 2 + 0.1 * np.exp(-t), hw2dynamics.maxvol)\n",
    "\n",
    "# Note that hw2dynamics.localvol is a function \n",
    "# that may be invoked in the usual way, for example:\n",
    "# hw2dynamics.localvol( exchangerate , time )"
   ]
  },
  {
   "cell_type": "code",
   "execution_count": 4,
   "metadata": {
    "ExecuteTime": {
     "end_time": "2022-02-02T21:21:03.321312Z",
     "start_time": "2022-02-02T21:21:03.318993Z"
    }
   },
   "outputs": [],
   "source": [
    "class Contract:\n",
    "    pass"
   ]
  },
  {
   "cell_type": "code",
   "execution_count": 5,
   "metadata": {
    "ExecuteTime": {
     "end_time": "2022-02-02T21:21:04.676951Z",
     "start_time": "2022-02-02T21:21:04.674291Z"
    }
   },
   "outputs": [],
   "source": [
    "hw2contract = Contract()\n",
    "hw2contract.putexpiry = 0.75;\n",
    "hw2contract.putstrike = 95;\n",
    "hw2contract.callexpiry = 0.25;\n",
    "hw2contract.callstrike = 10;"
   ]
  },
  {
   "cell_type": "code",
   "execution_count": 6,
   "metadata": {
    "ExecuteTime": {
     "end_time": "2022-02-02T21:21:05.561519Z",
     "start_time": "2022-02-02T21:21:05.559222Z"
    }
   },
   "outputs": [],
   "source": [
    "class Tree:\n",
    "    pass"
   ]
  },
  {
   "cell_type": "code",
   "execution_count": 7,
   "metadata": {
    "ExecuteTime": {
     "end_time": "2022-02-02T21:21:11.234166Z",
     "start_time": "2022-02-02T21:21:11.231617Z"
    }
   },
   "outputs": [],
   "source": [
    "hw2tree = Tree()\n",
    "hw2tree.N = 3000 #change if necessary to get $0.01 accuracy, in your judgment"
   ]
  },
  {
   "cell_type": "code",
   "execution_count": 8,
   "metadata": {
    "ExecuteTime": {
     "end_time": "2022-02-02T21:21:13.060393Z",
     "start_time": "2022-02-02T21:21:13.057800Z"
    }
   },
   "outputs": [],
   "source": [
    "def fp_equals(x, y):\n",
    "    return abs(x - y) <= 1e-12"
   ]
  },
  {
   "cell_type": "code",
   "execution_count": 9,
   "metadata": {
    "ExecuteTime": {
     "end_time": "2022-02-02T21:21:14.894244Z",
     "start_time": "2022-02-02T21:21:14.884753Z"
    }
   },
   "outputs": [],
   "source": [
    "def pricer_compound_localvol_trinom(contract, dynamics, tree):\n",
    "    \n",
    "    put_expiry, put_strike = contract.putexpiry, contract.putstrike\n",
    "    call_expiry, call_strike = contract.callexpiry, contract.callstrike\n",
    "    S0, r, q = dynamics.S0, dynamics.r, dynamics.q\n",
    "    max_vol, local_vol = dynamics.maxvol, dynamics.localvol\n",
    "    N = tree.N\n",
    "    \n",
    "    delta_t = put_expiry / N\n",
    "    if not fp_equals(call_expiry / delta_t, round(call_expiry / delta_t)):\n",
    "        raise ValueError(\"This value of N fails to place the call expiry in the tree.\")\n",
    "\n",
    "    representative_vol = local_vol(S0, 0)\n",
    "    delta_x = max(representative_vol * np.sqrt(3 * delta_t), max_vol * np.sqrt(delta_t))\n",
    "\n",
    "    S = S0 * np.exp(np.linspace(N, -N, num=2*N+1, endpoint=True) * delta_x)\n",
    "\n",
    "    put_price = np.maximum(put_strike - S, 0)\n",
    "\n",
    "    for t in np.linspace(N-1, 0, num=N, endpoint=True) * delta_t:\n",
    "        S = S[1:-1]\n",
    "        sigma = local_vol(S, t)\n",
    "        \n",
    "        nu = (r - q) - 0.5 * sigma ** 2\n",
    "        P_u = 0.5 * ((sigma ** 2 * delta_t + nu ** 2 * delta_t ** 2) / delta_x ** 2 + nu * delta_t / delta_x)\n",
    "        P_d = 0.5 * ((sigma ** 2 * delta_t + nu ** 2 * delta_t ** 2) / delta_x ** 2 - nu * delta_t / delta_x)\n",
    "        P_m = 1 - (sigma ** 2 * delta_t + nu ** 2 * delta_t ** 2) / delta_x ** 2\n",
    "\n",
    "        up_put_prices = put_price[:-2]\n",
    "        mid_put_prices = put_price[1:-1]\n",
    "        down_put_prices = put_price[2:]\n",
    "        \n",
    "        put_intrinsic_value = np.maximum(put_strike - S, 0)\n",
    "        put_price = np.maximum(put_intrinsic_value,\n",
    "                               np.exp(-r * delta_t) * (P_u * up_put_prices + P_m * mid_put_prices + P_d * down_put_prices))\n",
    "        \n",
    "        if fp_equals(t, call_expiry):\n",
    "            call_price = np.maximum(put_price - call_strike, 0)\n",
    "        elif t < call_expiry:\n",
    "            up_call_prices = call_price[:-2]\n",
    "            mid_call_prices = call_price[1:-1]\n",
    "            down_call_prices = call_price[2:]\n",
    "\n",
    "            call_price = np.exp(-r * delta_t) * (P_u * up_call_prices + P_m * mid_call_prices + P_d * down_call_prices)\n",
    "    \n",
    "    price_of_put = put_price[0]\n",
    "    \n",
    "    price_of_call_on_put = call_price[0]\n",
    "    \n",
    "    return (price_of_put, price_of_call_on_put)"
   ]
  },
  {
   "cell_type": "code",
   "execution_count": 10,
   "metadata": {
    "ExecuteTime": {
     "end_time": "2022-02-02T21:21:16.527062Z",
     "start_time": "2022-02-02T21:21:16.204728Z"
    }
   },
   "outputs": [],
   "source": [
    "(answer_part_a, answer_part_b) = pricer_compound_localvol_trinom(hw2contract, hw2dynamics, hw2tree)"
   ]
  },
  {
   "cell_type": "code",
   "execution_count": 11,
   "metadata": {
    "ExecuteTime": {
     "end_time": "2022-02-02T21:21:18.034570Z",
     "start_time": "2022-02-02T21:21:18.026099Z"
    }
   },
   "outputs": [
    {
     "data": {
      "text/plain": [
       "(7.007352296510587, 1.5925531282199274)"
      ]
     },
     "execution_count": 11,
     "metadata": {},
     "output_type": "execute_result"
    }
   ],
   "source": [
    "answer_part_a, answer_part_b"
   ]
  },
  {
   "cell_type": "markdown",
   "metadata": {
    "ExecuteTime": {
     "end_time": "2022-02-02T17:26:01.154551Z",
     "start_time": "2022-02-02T17:26:01.152462Z"
    }
   },
   "source": [
    "# Problem 2"
   ]
  },
  {
   "cell_type": "markdown",
   "metadata": {},
   "source": [
    "## 2(a)"
   ]
  },
  {
   "cell_type": "markdown",
   "metadata": {},
   "source": [
    "The exact formula for the Black-Scholes delta of a vanilla call is\n",
    "\n",
    "\\begin{equation}\n",
    "\\Delta = N(d_1),\n",
    "\\end{equation}\n",
    "\n",
    "where\n",
    "\n",
    "\\begin{equation}\n",
    "d_1 = \\frac{\\log(S / K) + (r + \\frac{\\sigma^2}{2}) (T - t)}{\\sigma \\sqrt{T - t}}.\n",
    "\\end{equation}\n",
    "\n",
    "Plugging in $S = K$ and $t = 0$ yields\n",
    "\n",
    "\\begin{align}\n",
    "d_1 &= \\frac{(r + \\frac{\\sigma^2}{2}) T}{\\sigma \\sqrt{T}}\\\\\n",
    "&= \\frac{(r + \\frac{\\sigma^2}{2}) \\sqrt{T}}{\\sigma}.\n",
    "\\end{align}\n",
    "\n",
    "Now, for $x \\approx 0$, to first order,\n",
    "\n",
    "\\begin{equation}\n",
    "N(x) \\approx N(0) + N'(0) \\cdot x.\n",
    "\\end{equation}\n",
    "\n",
    "We know that $N(0) = 0.5$ and $N'(x) = \\frac{1}{\\sqrt{2 \\pi}} \\exp(\\frac{-x^2}{2})$, so $N'(0) = \\frac{1}{\\sqrt{2\\pi}} \\approx 0.4$. Thus,\n",
    "\n",
    "\\begin{align}\n",
    "\\Delta &\\approx 0.5 + \\frac{(r + \\frac{\\sigma^2}{2}) \\sqrt{T}}{\\sigma \\sqrt{2 \\pi}}\\\\\n",
    "&\\approx 0.5 + 0.4 \\cdot \\frac{(r + \\frac{\\sigma^2}{2}) \\sqrt{T}}{\\sigma}.\n",
    "\\end{align}\n",
    "\n",
    "Plugging in $\\sigma = 0.2$, $T = 0.25$, and $r = 0.01$ yields\n",
    "\n",
    "\\begin{align}\n",
    "\\Delta &\\approx 0.5 + 0.4 \\cdot \\frac{(r + \\frac{\\sigma^2}{2}) \\sqrt{T}}{\\sigma}\\\\\n",
    "&\\approx 0.5 + 0.4 \\cdot \\frac{(0.01 + \\frac{0.2^2}{2}) \\sqrt{0.25}}{0.2}\\\\\n",
    "&\\approx 0.5 + 0.4 \\cdot \\frac{(0.01 + 0.02) 0.5}{0.2}\\\\\n",
    "&\\approx 0.5 + 0.4 \\cdot \\frac{0.03 \\cdot 0.5}{0.2}\\\\\n",
    "&\\approx 0.5 + 0.4 \\cdot \\frac{0.015}{0.2}\\\\\n",
    "&\\approx 0.5 + 0.4 \\cdot 0.075\\\\\n",
    "&\\approx 0.5 + 0.03\\\\\n",
    "&\\approx 0.53.\n",
    "\\end{align}"
   ]
  },
  {
   "cell_type": "markdown",
   "metadata": {},
   "source": [
    "## 2(b)"
   ]
  },
  {
   "cell_type": "markdown",
   "metadata": {},
   "source": [
    "Let $\\Delta_\\$$ and $\\Gamma_\\$$ denote the dollar delta and dollar gamma, respectively.\n",
    "\n",
    "We are given $S_0 = 4$, $\\Delta_\\$ = 3$, $\\Gamma_\\$ = 0.02$, and $C(S_0) = 5$.\n",
    "\n",
    "We find that\n",
    "\n",
    "\\begin{align}\n",
    "\\Delta_\\$ = 3 &\\implies S_0 \\Delta = 3\\\\\n",
    "&\\implies 4 \\Delta = 3\\\\\n",
    "&\\implies \\Delta = \\frac{3}{4}\n",
    "\\end{align}\n",
    "\n",
    "and\n",
    "\n",
    "\\begin{align}\n",
    "\\Gamma_\\$ = 0.02 &\\implies \\frac{1}{100} S_0^2 \\Gamma = 0.02\\\\\n",
    "&\\implies S_0^2 \\Gamma = 2\\\\\n",
    "&\\implies 4^2 \\Gamma = 2\\\\\n",
    "&\\implies 16 \\Gamma = 2\\\\\n",
    "&\\implies \\Gamma = \\frac{1}{8}.\n",
    "\\end{align}\n",
    "\n",
    "Now, for $S \\approx S_0$, to second order, we have\n",
    "\n",
    "\\begin{align}\n",
    "C(S) &\\approx C(S_0) + \\Delta (S - S_0) + \\frac{\\Gamma}{2} (S - S_0)^2\\\\\n",
    "&\\approx 5 + \\frac{3}{4} (S - 4) + \\frac{1}{16} (S - 4)^2.\n",
    "\\end{align}\n",
    "\n",
    "For $S = 3.6$, we have\n",
    "\n",
    "\\begin{align}\n",
    "C(3.6) &\\approx 5 + \\frac{3}{4} (3.6 - 4) + \\frac{1}{16} (3.6 - 4)^2\\\\\n",
    "&\\approx 5 + \\frac{3}{4} (-0.4) + \\frac{1}{16} (-0.4)^2\\\\\n",
    "&\\approx 5 - 0.3 + \\frac{1}{16} \\cdot 0.16\\\\\n",
    "&\\approx 5 - 0.3 + 0.01\\\\\n",
    "&\\approx 4.71.\n",
    "\\end{align}"
   ]
  },
  {
   "cell_type": "code",
   "execution_count": null,
   "metadata": {},
   "outputs": [],
   "source": []
  },
  {
   "cell_type": "code",
   "execution_count": null,
   "metadata": {},
   "outputs": [],
   "source": []
  }
 ],
 "metadata": {
  "anaconda-cloud": {},
  "kernelspec": {
   "display_name": "Python 3 (ipykernel)",
   "language": "python",
   "name": "python3"
  },
  "language_info": {
   "codemirror_mode": {
    "name": "ipython",
    "version": 3
   },
   "file_extension": ".py",
   "mimetype": "text/x-python",
   "name": "python",
   "nbconvert_exporter": "python",
   "pygments_lexer": "ipython3",
   "version": "3.9.10"
  }
 },
 "nbformat": 4,
 "nbformat_minor": 4
}
