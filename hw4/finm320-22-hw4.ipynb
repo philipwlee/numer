{
 "cells": [
  {
   "cell_type": "code",
   "execution_count": null,
   "metadata": {
    "collapsed": true
   },
   "outputs": [],
   "source": [
    "import numpy as np\n",
    "from scipy.sparse import diags\n",
    "from scipy.sparse.linalg import spsolve"
   ]
  },
  {
   "cell_type": "code",
   "execution_count": null,
   "metadata": {
    "collapsed": true
   },
   "outputs": [],
   "source": [
    "class Dynamics:\n",
    "    pass"
   ]
  },
  {
   "cell_type": "code",
   "execution_count": null,
   "metadata": {
    "collapsed": true
   },
   "outputs": [],
   "source": [
    "hw4dynamics=Dynamics()\n",
    "hw4dynamics.volcoeff = 3\n",
    "hw4dynamics.alpha = -0.5\n",
    "hw4dynamics.rGrow = #You complete this line\n",
    "hw4dynamics.r = 0.05\n",
    "hw4dynamics.S0 = 100\n"
   ]
  },
  {
   "cell_type": "code",
   "execution_count": null,
   "metadata": {
    "collapsed": true
   },
   "outputs": [],
   "source": [
    "class Contract:\n",
    "    pass"
   ]
  },
  {
   "cell_type": "code",
   "execution_count": null,
   "metadata": {
    "collapsed": true
   },
   "outputs": [],
   "source": [
    "hw4contract=Contract()\n",
    "hw4contract.T = 0.25\n",
    "hw4contract.K = 100"
   ]
  },
  {
   "cell_type": "code",
   "execution_count": null,
   "metadata": {
    "collapsed": true
   },
   "outputs": [],
   "source": [
    "class FD:\n",
    "    pass"
   ]
  },
  {
   "cell_type": "code",
   "execution_count": null,
   "metadata": {
    "collapsed": true
   },
   "outputs": [],
   "source": [
    "hw4FD=FD()\n",
    "hw4FD.SMax=200\n",
    "hw4FD.SMin=50\n",
    "hw4FD.deltaS=0.1\n",
    "hw4FD.deltat=0.0005"
   ]
  },
  {
   "cell_type": "code",
   "execution_count": null,
   "metadata": {},
   "outputs": [],
   "source": [
    "# You complete the coding of this function\n",
    "\n",
    "def pricer_put_CEV_CrankNicolson(contract,dynamics,FD):\n",
    "# returns array of all initial spots,\n",
    "# and the corresponding array of put prices\n",
    "\n",
    "    alpha, r, rGrow, volcoeff = dynamics.alpha, dynamics.r, dynamics.rGrow, dynamics.volcoeff \n",
    "    T, K = contract.T, contract.K\n",
    "\n",
    "    # SMin and SMax denote the smallest and largest S in the _interior_.\n",
    "    # The boundary conditions are imposed one step _beyond_, \n",
    "    # e.g. at S_lowboundary=SMin-deltaS, not at SMin.\n",
    "    # To relate to lecture notation, S_lowboundary is S_{-J}\n",
    "    # whereas SMin is S_{-J+1}\n",
    "\n",
    "    SMax, SMin = FD.SMax, FD.SMin\n",
    "    deltaS, deltat = FD.deltaS, FD.deltat\n",
    "    N=round(T/deltat)\n",
    "    if abs(N-T/deltat)>1e-12:\n",
    "        raise ValueError('Bad time step')\n",
    "    numS=round((SMax-SMin)/deltaS)+1\n",
    "    if abs(numS-(SMax-SMin)/deltaS-1)>1e-12:\n",
    "        raise ValueError('Bad time step')\n",
    "    S=np.linspace(SMax,SMin,numS)    #The FIRST indices in this array are for HIGH levels of S\n",
    "    S_lowboundary=SMin-deltaS\n",
    "\n",
    "    putprice=np.maximum(K-S,0)\n",
    "\n",
    "    ratio=deltat/deltaS\n",
    "    ratio2=deltat/deltaS**2\n",
    "    f =    # You fill in with an array of the same size as S.\n",
    "    g =    # You fill in with an array of the same size as S.\n",
    "    h =    # You fill in with an array of the same size as S (or a scalar is acceptable here)\n",
    "    F = 0.5*ratio2*f+0.25*ratio*g\n",
    "    G = ratio2*f-0.50*deltat*h\n",
    "    H = 0.5*ratio2*f-0.25*ratio*g\n",
    "    \n",
    "    RHSmatrix = diags([H[:-1], 1-G, F[1:]], [1,0,-1], shape=(numS,numS), format=\"csr\")\n",
    "    LHSmatrix = diags([-H[:-1], 1+G, -F[1:]], [1,0,-1], shape=(numS,numS), format=\"csr\")\n",
    "    # diags creates SPARSE matrices\n",
    "    \n",
    "    for t in np.arange(N-1,-1,-1)*deltat:\n",
    "\n",
    "        rhs = RHSmatrix * putprice\n",
    "        \n",
    "        #Now let's add the boundary condition vectors.\n",
    "        #They are nonzero only in the last component:\n",
    "        rhs[-1]=rhs[-1]+2*H[-1]*(K-S_lowboundary)\n",
    "\n",
    "        putprice = #You code this.  Hint...\n",
    "        # numpy.linalg.solve, which expects arrays as inputs,\n",
    "        # is fine for small matrix equations, and for matrix equations without special structure.\n",
    "        # But for large matrix equations in which the matrix has special structure,\n",
    "        # we want a more intelligent solver that can run faster \n",
    "        # by taking advantage of the special structure of the matrix.\n",
    "        # Specifically, in this case, we want to use a solver that recognizes the SPARSE MATRIX structure.\n",
    "        # Try spsolve, imported from scipy.sparse.linalg\n",
    "        putprice = np.maximum(putprice, K-S)\n",
    "    \n",
    "    return(S, putprice)\n",
    "        "
   ]
  },
  {
   "cell_type": "code",
   "execution_count": null,
   "metadata": {},
   "outputs": [],
   "source": [
    "(S0_all, putprice) = pricer_put_CEV_CrankNicolson(hw4contract,hw4dynamics,hw4FD)"
   ]
  },
  {
   "cell_type": "code",
   "execution_count": null,
   "metadata": {
    "collapsed": true
   },
   "outputs": [],
   "source": [
    "# pricer_put_CEV_CrankNicolson gives us option prices for ALL S0 from SMin to SMax\n",
    "# But let's display only for a few S0 near 100:\n",
    "\n",
    "displayStart = hw4dynamics.S0-hw4FD.deltaS*1.5 \n",
    "displayEnd   = hw4dynamics.S0+hw4FD.deltaS*1.5\n",
    "displayrows=np.logical_and(S0_all>displayStart, S0_all<displayEnd)\n",
    "np.set_printoptions(precision=4, suppress=True)"
   ]
  },
  {
   "cell_type": "code",
   "execution_count": null,
   "metadata": {},
   "outputs": [],
   "source": [
    "print(np.stack((S0_all, putprice),1)[displayrows])"
   ]
  }
 ],
 "metadata": {
  "anaconda-cloud": {},
  "kernelspec": {
   "display_name": "Python 3",
   "language": "python",
   "name": "python3"
  },
  "language_info": {
   "codemirror_mode": {
    "name": "ipython",
    "version": 3
   },
   "file_extension": ".py",
   "mimetype": "text/x-python",
   "name": "python",
   "nbconvert_exporter": "python",
   "pygments_lexer": "ipython3",
   "version": "3.6.5"
  }
 },
 "nbformat": 4,
 "nbformat_minor": 1
}
