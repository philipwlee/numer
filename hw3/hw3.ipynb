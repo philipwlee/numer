{
 "cells": [
  {
   "cell_type": "code",
   "execution_count": 1,
   "metadata": {
    "execution": {
     "iopub.execute_input": "2022-02-12T03:43:23.211838Z",
     "iopub.status.busy": "2022-02-12T03:43:23.211459Z",
     "iopub.status.idle": "2022-02-12T03:43:26.479670Z",
     "shell.execute_reply": "2022-02-12T03:43:26.479078Z",
     "shell.execute_reply.started": "2022-02-12T03:43:23.211762Z"
    },
    "tags": []
   },
   "outputs": [],
   "source": [
    "import numpy as np\n",
    "np.set_printoptions(precision=4)\n",
    "np.set_printoptions(suppress=True)\n",
    "import pandas as pd\n",
    "pd.options.display.float_format = \"{:.4f}\".format\n",
    "from scipy.stats import norm\n",
    "from scipy.optimize import bisect, brentq\n",
    "from scipy.interpolate import interp1d\n",
    "import matplotlib.pyplot as plt"
   ]
  },
  {
   "cell_type": "markdown",
   "metadata": {},
   "source": [
    "# Problem 1\n",
    "\n",
    "#### (a)\n",
    "\n",
    "$$\\begin{aligned}\n",
    "    dr_t &= \\alpha(r_t,t)dt+\\beta(r_t,t)dW_t \\\\\n",
    "    dC(r_t,t) &= \\frac{\\partial C}{\\partial r_t} dr_t + \\frac{\\partial C}{\\partial t} dt + \\frac{1}{2} \\frac{\\partial^2 C}{\\partial r_t^2} dr_t^2 \\\\\n",
    "        &= \\frac{\\partial C}{\\partial r_t} \\big(\\alpha(r_t,t)dt+\\beta(r_t,t)dW_t\\big) + \\frac{\\partial C}{\\partial t} dt + \\frac{1}{2} \\frac{\\partial^2 C}{\\partial r_t^2} \\big(\\alpha(r_t,t)dt+\\beta(r_t,t)dW_t\\big)^2 \\\\\n",
    "        &= \\frac{\\partial C}{\\partial r_t} \\big(\\alpha(r_t,t)dt+\\beta(r_t,t)dW_t\\big) + \\frac{\\partial C}{\\partial t} dt + \\frac{1}{2} \\frac{\\partial^2 C}{\\partial r_t^2} \\big(\\beta(r_t,t)^2dt\\big) \\\\\n",
    "        &= \\bigg(\\frac{\\partial C}{\\partial r_t} \\alpha(r_t,t) + \\frac{\\partial C}{\\partial t} + \\frac{1}{2} \\frac{\\partial^2 C}{\\partial r_t^2} \\beta(r_t,t)^2\\bigg) dt + \\frac{\\partial C}{\\partial r_t} \\beta(r_t,t)dW_t \\\\\n",
    "    rC &= \\frac{\\partial C}{\\partial r_t} \\alpha(r_t,t) + \\frac{\\partial C}{\\partial t} + \\frac{1}{2} \\frac{\\partial^2 C}{\\partial r_t^2} \\beta(r_t,t)^2 \\\\\n",
    "        &= \\frac{\\partial C}{\\partial r_t} \\kappa(\\theta-r_t) + \\frac{\\partial C}{\\partial t} + \\frac{\\sigma^2}{2} \\frac{\\partial^2 C}{\\partial r_t^2}\n",
    "\\end{aligned}$$"
   ]
  },
  {
   "cell_type": "code",
   "execution_count": 2,
   "metadata": {
    "execution": {
     "iopub.execute_input": "2022-02-12T03:43:26.482184Z",
     "iopub.status.busy": "2022-02-12T03:43:26.481912Z",
     "iopub.status.idle": "2022-02-12T03:43:26.486628Z",
     "shell.execute_reply": "2022-02-12T03:43:26.485854Z",
     "shell.execute_reply.started": "2022-02-12T03:43:26.482153Z"
    },
    "tags": []
   },
   "outputs": [],
   "source": [
    "class Dynamics:\n",
    "    pass"
   ]
  },
  {
   "cell_type": "code",
   "execution_count": 3,
   "metadata": {
    "execution": {
     "iopub.execute_input": "2022-02-12T03:43:26.489180Z",
     "iopub.status.busy": "2022-02-12T03:43:26.488926Z",
     "iopub.status.idle": "2022-02-12T03:43:26.494272Z",
     "shell.execute_reply": "2022-02-12T03:43:26.493236Z",
     "shell.execute_reply.started": "2022-02-12T03:43:26.489151Z"
    },
    "tags": []
   },
   "outputs": [],
   "source": [
    "hw3dynamics=Dynamics()\n",
    "hw3dynamics.kappa = 3\n",
    "hw3dynamics.theta = 0.05\n",
    "hw3dynamics.sigma = 0.03\n"
   ]
  },
  {
   "cell_type": "code",
   "execution_count": 4,
   "metadata": {
    "execution": {
     "iopub.execute_input": "2022-02-12T03:43:26.495792Z",
     "iopub.status.busy": "2022-02-12T03:43:26.495463Z",
     "iopub.status.idle": "2022-02-12T03:43:26.500842Z",
     "shell.execute_reply": "2022-02-12T03:43:26.500085Z",
     "shell.execute_reply.started": "2022-02-12T03:43:26.495762Z"
    },
    "tags": []
   },
   "outputs": [],
   "source": [
    "class Contract:\n",
    "    pass"
   ]
  },
  {
   "cell_type": "code",
   "execution_count": 5,
   "metadata": {
    "execution": {
     "iopub.execute_input": "2022-02-12T03:43:26.502699Z",
     "iopub.status.busy": "2022-02-12T03:43:26.502224Z",
     "iopub.status.idle": "2022-02-12T03:43:26.507608Z",
     "shell.execute_reply": "2022-02-12T03:43:26.506793Z",
     "shell.execute_reply.started": "2022-02-12T03:43:26.502666Z"
    },
    "tags": []
   },
   "outputs": [],
   "source": [
    "hw3contract=Contract()\n",
    "hw3contract.T = 5"
   ]
  },
  {
   "cell_type": "code",
   "execution_count": 6,
   "metadata": {
    "execution": {
     "iopub.execute_input": "2022-02-12T03:43:26.509472Z",
     "iopub.status.busy": "2022-02-12T03:43:26.509157Z",
     "iopub.status.idle": "2022-02-12T03:43:26.514267Z",
     "shell.execute_reply": "2022-02-12T03:43:26.513295Z",
     "shell.execute_reply.started": "2022-02-12T03:43:26.509442Z"
    },
    "tags": []
   },
   "outputs": [],
   "source": [
    "class FD:\n",
    "    pass"
   ]
  },
  {
   "cell_type": "code",
   "execution_count": 7,
   "metadata": {
    "execution": {
     "iopub.execute_input": "2022-02-12T03:43:26.518255Z",
     "iopub.status.busy": "2022-02-12T03:43:26.518069Z",
     "iopub.status.idle": "2022-02-12T03:43:26.522790Z",
     "shell.execute_reply": "2022-02-12T03:43:26.521881Z",
     "shell.execute_reply.started": "2022-02-12T03:43:26.518236Z"
    },
    "tags": []
   },
   "outputs": [],
   "source": [
    "hw3FD=FD()\n",
    "hw3FD.rMax=0.35\n",
    "hw3FD.rMin=-0.25\n",
    "hw3FD.deltar=0.01\n",
    "hw3FD.deltat=0.01\n",
    "hw3FD.useUpwind=False"
   ]
  },
  {
   "cell_type": "markdown",
   "metadata": {},
   "source": [
    "#### (b)\n",
    "\n",
    "#### (c)"
   ]
  },
  {
   "cell_type": "code",
   "execution_count": 8,
   "metadata": {
    "execution": {
     "iopub.execute_input": "2022-02-12T03:43:26.525638Z",
     "iopub.status.busy": "2022-02-12T03:43:26.525293Z",
     "iopub.status.idle": "2022-02-12T03:43:26.573748Z",
     "shell.execute_reply": "2022-02-12T03:43:26.572682Z",
     "shell.execute_reply.started": "2022-02-12T03:43:26.525609Z"
    },
    "tags": []
   },
   "outputs": [],
   "source": [
    "# You complete the coding of this function\n",
    "\n",
    "def pricer_bond_vasicek_explicitFD(contract,dynamics,fd):\n",
    "# returns array of all initial short rates,\n",
    "# and the corresponding array of zero-coupon\n",
    "# T-maturity bond prices\n",
    "    def q_s(sigma, deltat, deltar, nu, useUpwind):\n",
    "        inner = sigma**2 * deltat / deltar**2\n",
    "        plus_minus = nu * deltat / deltar\n",
    "        if useUpwind:\n",
    "            maskp = nu>=0; maskn = nu<0\n",
    "            # suffix p denotes positive nu\n",
    "            q_up = plus_minus + inner/2; q_dp = inner/2; q_mp = 1 - plus_minus - inner;\n",
    "            # suffix n denotes positive nu\n",
    "            q_un = inner/2; q_dn = inner/2 - plus_minus; q_mn = 1 + plus_minus - inner;\n",
    "            q_u  = q_up * maskp + q_un * maskn\n",
    "            q_d  = q_dp * maskp + q_dn * maskn\n",
    "            q_m  = q_mp * maskp + q_mn * maskn\n",
    "        else:\n",
    "            q_u = (inner + plus_minus) / 2\n",
    "            q_d = (inner - plus_minus) / 2\n",
    "            q_m = 1 - inner\n",
    "        return q_u, q_d, q_m\n",
    "\n",
    "    T = contract.T\n",
    "    kappa, theta, sigma = dynamics.kappa, dynamics.theta, dynamics.sigma    \n",
    "    rMax, rMin, deltar, deltat = fd.rMax, fd.rMin, fd.deltar, fd.deltat  \n",
    "    useUpwind = fd.useUpwind\n",
    "    N=round(T/deltat)\n",
    "    if abs(N-T/deltat) > 1e-12:\n",
    "        raise ValueError(\"Bad delta t\")\n",
    "        \n",
    "    r=np.arange(rMax,rMin-deltar/2,-deltar)   #I'm making the FIRST indices of the array correspond to HIGH levels of r\n",
    "    bondprice=np.ones(np.size(r))\n",
    "    nu = kappa * (theta - r)\n",
    "    \n",
    "    qu, qd, qm = q_s(sigma, deltat, deltar, nu, useUpwind)   #fill this in with an array.\n",
    "    \n",
    "    for t in np.arange(N-1,-1,-1)*deltat:\n",
    "        bondprice=1/(1+r*deltat)*(qd*np.roll(bondprice,-1)+qm*bondprice+qu*np.roll(bondprice,1))\n",
    "        \n",
    "        # It is not obvious in this case, \n",
    "        # what boundary conditions to impose at the top and bottom\n",
    "        # so let us impose \"linearity\" boundary conditions\n",
    "        bondprice[0]=2*bondprice[1]-bondprice[2]\n",
    "        bondprice[-1]=2*bondprice[-2]-bondprice[-3]\n",
    "        \n",
    "    return (r, bondprice)"
   ]
  },
  {
   "cell_type": "markdown",
   "metadata": {},
   "source": [
    "#### (c)\n",
    "\n",
    "$$\\begin{aligned}\n",
    "    \\text{Ordinarily,}& \\\\\n",
    "    \\nu &= \\kappa (\\theta - r_{j+1}) \\\\\n",
    "    rC_n^j &= \\frac{C_{n+1}^{j}-C_{n}^{j}}{\\Delta t} + \\nu \\frac{C_{n+1}^{j+1}-C_{n+1}^{j-1}}{2 \\Delta r} + \\frac{\\sigma^2}{2} \\frac{C_{n+1}^{j+1}-2 C_{n+1}^{j} + C_{n+1}^{j-1}}{\\Delta r^2} \\\\\n",
    "    \\text{Using upwind,}& \\\\\n",
    "    rC_n^j &= \\begin{cases}\n",
    "        \\nu \\geq 0 & \\frac{C_{n+1}^{j}-C_{n}^{j}}{\\Delta t} + \\nu \\frac{C_{n+1}^{j+1}-C_{n+1}^{j}}{\\Delta r} + \\frac{\\sigma^2}{2} \\frac{C_{n+1}^{j+1}-2 C_{n+1}^{j} + C_{n+1}^{j-1}}{\\Delta r^2} \\\\\n",
    "        \\nu < 0 & \\frac{C_{n+1}^{j}-C_{n}^{j}}{\\Delta t} + \\nu \\frac{C_{n+1}^{j}-C_{n+1}^{j-1}}{\\Delta r} + \\frac{\\sigma^2}{2} \\frac{C_{n+1}^{j+1}-2 C_{n+1}^{j} + C_{n+1}^{j-1}}{\\Delta r^2} \\\\\n",
    "    \\end{cases} \\\\\n",
    "    \\text{Simplifying:}& \\\\\n",
    "    \\text{For } \\nu \\geq 0& \\\\\n",
    "    r\\Delta t C_n^j &= C_{n+1}^{j}-C_{n}^{j} + \\nu \\Delta t \\frac{C_{n+1}^{j+1}-C_{n+1}^{j}}{\\Delta r} + \\frac{\\Delta t \\sigma^2}{2} \\frac{C_{n+1}^{j+1}-2 C_{n+1}^{j} + C_{n+1}^{j-1}}{\\Delta r^2} \\\\\n",
    "    (1+r\\Delta t) C_n^j &= C_{n+1}^{j} + \\nu \\Delta t \\frac{C_{n+1}^{j+1}-C_{n+1}^{j}}{\\Delta r} + \\frac{\\Delta t \\sigma^2}{2} \\frac{C_{n+1}^{j+1}-2 C_{n+1}^{j} + C_{n+1}^{j-1}}{\\Delta r^2} \\\\\n",
    "    (1+r\\Delta t) C_n^j &= C_{n+1}^{j} + \\nu \\Delta t \\frac{C_{n+1}^{j+1}}{\\Delta r} - \\nu \\Delta t \\frac{C_{n+1}^{j}}{\\Delta r} + \\frac{\\Delta t \\sigma^2}{2} \\frac{C_{n+1}^{j+1}}{\\Delta r^2} - \\frac{\\Delta t \\sigma^2}{2} \\frac{2 C_{n+1}^{j}}{\\Delta r^2} + \\frac{\\Delta t \\sigma^2}{2} \\frac{C_{n+1}^{j-1}}{\\Delta r^2} \\\\\n",
    "    (1+r\\Delta t) C_n^j &= C_{n+1}^{j} \\bigg(1 - \\frac{\\nu \\Delta t}{\\Delta r} - \\frac{\\Delta t \\sigma^2}{\\Delta r^2}\\bigg) + C_{n+1}^{j+1} \\bigg(\\frac{\\nu \\Delta t}{\\Delta r} + \\frac{\\Delta t \\sigma^2}{2 \\Delta r^2}\\bigg) + C_{n+1}^{j-1} \\bigg( \\frac{\\Delta t \\sigma^2}{2 \\Delta r^2} \\bigg)\\\\\n",
    "    C_n^j &= \\frac{1}{(1+r\\Delta t)} \\bigg[ C_{n+1}^{j} \\bigg(1 - \\frac{\\nu \\Delta t}{\\Delta r} - \\frac{\\Delta t \\sigma^2}{\\Delta r^2}\\bigg) + C_{n+1}^{j+1} \\bigg(\\frac{\\nu \\Delta t}{\\Delta r} + \\frac{\\Delta t \\sigma^2}{2 \\Delta r^2}\\bigg) + C_{n+1}^{j-1} \\bigg( \\frac{\\Delta t \\sigma^2}{2 \\Delta r^2} \\bigg) \\bigg]\\\\\n",
    "    \\text{For } \\nu < 0& \\\\\n",
    "    r\\Delta t C_n^j &= C_{n+1}^{j}-C_{n}^{j} + \\nu \\Delta t \\frac{C_{n+1}^{j}-C_{n+1}^{j-1}}{\\Delta r} + \\frac{\\Delta t \\sigma^2}{2} \\frac{C_{n+1}^{j+1}-2 C_{n+1}^{j} + C_{n+1}^{j-1}}{\\Delta r^2} \\\\\n",
    "    (1+r\\Delta t) C_n^j &= C_{n+1}^{j} + \\nu \\Delta t \\frac{C_{n+1}^{j}-C_{n+1}^{j-1}}{\\Delta r} + \\frac{\\Delta t \\sigma^2}{2} \\frac{C_{n+1}^{j+1}-2 C_{n+1}^{j} + C_{n+1}^{j-1}}{\\Delta r^2} \\\\\n",
    "        (1+r\\Delta t) C_n^j &= C_{n+1}^{j} + \\nu \\Delta t \\frac{C_{n+1}^{j}}{\\Delta r} - \\nu \\Delta t \\frac{C_{n+1}^{j-1}}{\\Delta r} + \\frac{\\Delta t \\sigma^2}{2} \\frac{C_{n+1}^{j+1}}{\\Delta r^2} - \\frac{\\Delta t \\sigma^2}{2} \\frac{2 C_{n+1}^{j}}{\\Delta r^2} + \\frac{\\Delta t \\sigma^2}{2} \\frac{C_{n+1}^{j-1}}{\\Delta r^2} \\\\\n",
    "    (1+r\\Delta t) C_n^j &= C_{n+1}^{j} \\bigg(1 + \\frac{\\nu \\Delta t}{\\Delta r} - \\frac{\\Delta t \\sigma^2}{\\Delta r^2}\\bigg) + C_{n+1}^{j+1} \\bigg(\\frac{\\Delta t \\sigma^2}{2 \\Delta r^2}\\bigg) + C_{n+1}^{j-1} \\bigg( \\frac{\\Delta t \\sigma^2}{2 \\Delta r^2} - \\frac{\\nu \\Delta t}{\\Delta r} \\bigg)\\\\\n",
    "    C_n^j &= \\frac{1}{(1+r\\Delta t)} \\bigg[ C_{n+1}^{j} \\bigg(1 + \\frac{\\nu \\Delta t}{\\Delta r} - \\frac{\\Delta t \\sigma^2}{\\Delta r^2}\\bigg) + C_{n+1}^{j+1} \\bigg(\\frac{\\Delta t \\sigma^2}{2 \\Delta r^2}\\bigg) + C_{n+1}^{j-1} \\bigg( \\frac{\\Delta t \\sigma^2}{2 \\Delta r^2} - \\frac{\\nu \\Delta t}{\\Delta r} \\bigg) \\bigg]\\\\\n",
    "    \\text{Therefore,}& \\\\\n",
    "    q_u &= \\begin{cases}\n",
    "        \\nu \\geq 0 & \\frac{\\nu \\Delta t}{\\Delta r} + \\frac{\\Delta t \\sigma^2}{2 \\Delta r^2} \\\\\n",
    "        \\nu < 0    & \\frac{\\Delta t \\sigma^2}{2 \\Delta r^2}\n",
    "    \\end{cases} \\\\\n",
    "    q_d &= \\begin{cases}\n",
    "        \\nu \\geq 0 & \\frac{\\Delta t \\sigma^2}{2 \\Delta r^2} \\\\\n",
    "        \\nu < 0    & \\frac{\\Delta t \\sigma^2}{2 \\Delta r^2} - \\frac{\\nu \\Delta t}{\\Delta r}\n",
    "    \\end{cases} \\\\\n",
    "    q_m &= \\begin{cases}\n",
    "        \\nu \\geq 0 & 1 - \\frac{\\nu \\Delta t}{\\Delta r} - \\frac{\\Delta t \\sigma^2}{\\Delta r^2} \\\\\n",
    "        \\nu < 0    & 1 + \\frac{\\nu \\Delta t}{\\Delta r} - \\frac{\\Delta t \\sigma^2}{\\Delta r^2}\n",
    "    \\end{cases} \\\\\n",
    "\\end{aligned}$$"
   ]
  },
  {
   "cell_type": "markdown",
   "metadata": {},
   "source": [
    "#### (d)\n",
    "\n",
    "Proof: The center difference is more accurate than the right-hand difference.\n",
    "\n",
    "$$\\begin{aligned}\n",
    "    f(x+h) &= \\sum_{i=0}^{\\infty} \\frac{f^{i}(x)(h)^i}{i!} = f(x) + f^1(x)(h) + \\sum_{i=2}^{\\infty} \\frac{f^{i}(x)(h)^i}{i!} \\\\\n",
    "    \\frac{f(x+h)-f(x)}{h} &= f^1(x) + \\sum_{i=2}^{\\infty} \\frac{f^{i}(x)(h)^{i-1}}{i!} \\\\\n",
    "    \\bigg| \\frac{f(x+h)-f(x)}{h} - f^1(x) \\bigg| &=\\sum_{i=2}^{\\infty} \\frac{f^{i}(x)(h)^{i-1}}{i!} = O(h) \\\\\n",
    "    f(x-h) &= \\sum_{i=0}^{\\infty} \\frac{f^{i}(x)(-h)^i}{i!} = f(x) + f^1(x)(-h) + \\sum_{i=2}^{\\infty} \\frac{f^{i}(x)(-h)^i}{i!}  \\\\\n",
    "    \\frac{f(x+h)-f(x-h)}{2h} &= f^1(x) + \\frac{1}{2} \\sum_{i=2}^{\\infty} \\frac{f^{i}(x)(h)^{i-1}}{i!} + \\frac{1}{2} \\sum_{i=2}^{\\infty} \\frac{f^{i}(x)(-h)^{i-1}}{i!} \\\\\n",
    "    \\bigg| \\frac{f(x+h)-f(x-h)}{2h} - f^1(x) \\bigg| &= \\frac{1}{2} \\sum_{i=2}^{\\infty} \\underbrace{\\frac{f^{i}(x)(h)^{i-1}}{i!} + \\frac{f^{i}(x)(-h)^{i-1}}{i!}}_{=\\begin{cases} i=2n & 0 \\\\ i=2n+1 & 2\\frac{f^{i}(x)(h)^{i-1}}{i!} \\end{cases}} = \\sum_{i=1}^{\\infty} \\frac{f^{2i+1}(x)(h)^{2i}}{(2i+1)!} \\\\\n",
    "        &= O(h^2)\n",
    "\\end{aligned}$$"
   ]
  },
  {
   "cell_type": "markdown",
   "metadata": {},
   "source": [
    "#### (e)"
   ]
  },
  {
   "cell_type": "code",
   "execution_count": 9,
   "metadata": {
    "execution": {
     "iopub.execute_input": "2022-02-12T03:43:26.575895Z",
     "iopub.status.busy": "2022-02-12T03:43:26.575401Z",
     "iopub.status.idle": "2022-02-12T03:43:26.621897Z",
     "shell.execute_reply": "2022-02-12T03:43:26.620842Z",
     "shell.execute_reply.started": "2022-02-12T03:43:26.575862Z"
    },
    "tags": []
   },
   "outputs": [
    {
     "data": {
      "text/html": [
       "<div>\n",
       "<style scoped>\n",
       "    .dataframe tbody tr th:only-of-type {\n",
       "        vertical-align: middle;\n",
       "    }\n",
       "\n",
       "    .dataframe tbody tr th {\n",
       "        vertical-align: top;\n",
       "    }\n",
       "\n",
       "    .dataframe thead th {\n",
       "        text-align: right;\n",
       "    }\n",
       "</style>\n",
       "<table border=\"1\" class=\"dataframe\">\n",
       "  <thead>\n",
       "    <tr style=\"text-align: right;\">\n",
       "      <th></th>\n",
       "      <th>bondprice</th>\n",
       "    </tr>\n",
       "  </thead>\n",
       "  <tbody>\n",
       "    <tr>\n",
       "      <th>0.1500</th>\n",
       "      <td>-1427310557.4784</td>\n",
       "    </tr>\n",
       "    <tr>\n",
       "      <th>0.1400</th>\n",
       "      <td>163607814.0508</td>\n",
       "    </tr>\n",
       "    <tr>\n",
       "      <th>0.1300</th>\n",
       "      <td>22293904.4769</td>\n",
       "    </tr>\n",
       "    <tr>\n",
       "      <th>0.1200</th>\n",
       "      <td>-1372394.7811</td>\n",
       "    </tr>\n",
       "    <tr>\n",
       "      <th>0.1100</th>\n",
       "      <td>-133611.8028</td>\n",
       "    </tr>\n",
       "    <tr>\n",
       "      <th>0.1000</th>\n",
       "      <td>3296.5929</td>\n",
       "    </tr>\n",
       "    <tr>\n",
       "      <th>0.0900</th>\n",
       "      <td>130.2132</td>\n",
       "    </tr>\n",
       "    <tr>\n",
       "      <th>0.0800</th>\n",
       "      <td>0.7713</td>\n",
       "    </tr>\n",
       "    <tr>\n",
       "      <th>0.0700</th>\n",
       "      <td>0.7739</td>\n",
       "    </tr>\n",
       "    <tr>\n",
       "      <th>0.0600</th>\n",
       "      <td>0.7764</td>\n",
       "    </tr>\n",
       "    <tr>\n",
       "      <th>0.0500</th>\n",
       "      <td>0.7790</td>\n",
       "    </tr>\n",
       "    <tr>\n",
       "      <th>0.0400</th>\n",
       "      <td>0.7816</td>\n",
       "    </tr>\n",
       "    <tr>\n",
       "      <th>0.0300</th>\n",
       "      <td>0.7842</td>\n",
       "    </tr>\n",
       "    <tr>\n",
       "      <th>0.0200</th>\n",
       "      <td>0.7869</td>\n",
       "    </tr>\n",
       "    <tr>\n",
       "      <th>0.0100</th>\n",
       "      <td>1416.4522</td>\n",
       "    </tr>\n",
       "    <tr>\n",
       "      <th>-0.0000</th>\n",
       "      <td>51498.4823</td>\n",
       "    </tr>\n",
       "  </tbody>\n",
       "</table>\n",
       "</div>"
      ],
      "text/plain": [
       "               bondprice\n",
       "0.1500  -1427310557.4784\n",
       "0.1400    163607814.0508\n",
       "0.1300     22293904.4769\n",
       "0.1200     -1372394.7811\n",
       "0.1100      -133611.8028\n",
       "0.1000         3296.5929\n",
       "0.0900          130.2132\n",
       "0.0800            0.7713\n",
       "0.0700            0.7739\n",
       "0.0600            0.7764\n",
       "0.0500            0.7790\n",
       "0.0400            0.7816\n",
       "0.0300            0.7842\n",
       "0.0200            0.7869\n",
       "0.0100         1416.4522\n",
       "-0.0000       51498.4823"
      ]
     },
     "metadata": {},
     "output_type": "display_data"
    }
   ],
   "source": [
    "def display_results(bondprice, r, displayrows):\n",
    "    display(pd.DataFrame(bondprice, index=r, columns=[\"bondprice\"])[displayrows])\n",
    "\n",
    "(r, bondprice) = pricer_bond_vasicek_explicitFD(hw3contract,hw3dynamics,hw3FD)\n",
    "displayrows=np.logical_and(r<0.15+hw3FD.deltar/2, r>0.0-hw3FD.deltar/2)\n",
    "display_results(bondprice, r, displayrows)"
   ]
  },
  {
   "cell_type": "code",
   "execution_count": 10,
   "metadata": {
    "execution": {
     "iopub.execute_input": "2022-02-12T03:43:26.623383Z",
     "iopub.status.busy": "2022-02-12T03:43:26.623127Z",
     "iopub.status.idle": "2022-02-12T03:43:26.659860Z",
     "shell.execute_reply": "2022-02-12T03:43:26.658844Z",
     "shell.execute_reply.started": "2022-02-12T03:43:26.623354Z"
    }
   },
   "outputs": [
    {
     "data": {
      "text/html": [
       "<div>\n",
       "<style scoped>\n",
       "    .dataframe tbody tr th:only-of-type {\n",
       "        vertical-align: middle;\n",
       "    }\n",
       "\n",
       "    .dataframe tbody tr th {\n",
       "        vertical-align: top;\n",
       "    }\n",
       "\n",
       "    .dataframe thead th {\n",
       "        text-align: right;\n",
       "    }\n",
       "</style>\n",
       "<table border=\"1\" class=\"dataframe\">\n",
       "  <thead>\n",
       "    <tr style=\"text-align: right;\">\n",
       "      <th></th>\n",
       "      <th>bondprice</th>\n",
       "    </tr>\n",
       "  </thead>\n",
       "  <tbody>\n",
       "    <tr>\n",
       "      <th>0.1500</th>\n",
       "      <td>0.7536</td>\n",
       "    </tr>\n",
       "    <tr>\n",
       "      <th>0.1400</th>\n",
       "      <td>0.7561</td>\n",
       "    </tr>\n",
       "    <tr>\n",
       "      <th>0.1300</th>\n",
       "      <td>0.7586</td>\n",
       "    </tr>\n",
       "    <tr>\n",
       "      <th>0.1200</th>\n",
       "      <td>0.7611</td>\n",
       "    </tr>\n",
       "    <tr>\n",
       "      <th>0.1100</th>\n",
       "      <td>0.7637</td>\n",
       "    </tr>\n",
       "    <tr>\n",
       "      <th>0.1000</th>\n",
       "      <td>0.7662</td>\n",
       "    </tr>\n",
       "    <tr>\n",
       "      <th>0.0900</th>\n",
       "      <td>0.7688</td>\n",
       "    </tr>\n",
       "    <tr>\n",
       "      <th>0.0800</th>\n",
       "      <td>0.7713</td>\n",
       "    </tr>\n",
       "    <tr>\n",
       "      <th>0.0700</th>\n",
       "      <td>0.7739</td>\n",
       "    </tr>\n",
       "    <tr>\n",
       "      <th>0.0600</th>\n",
       "      <td>0.7765</td>\n",
       "    </tr>\n",
       "    <tr>\n",
       "      <th>0.0500</th>\n",
       "      <td>0.7791</td>\n",
       "    </tr>\n",
       "    <tr>\n",
       "      <th>0.0400</th>\n",
       "      <td>0.7817</td>\n",
       "    </tr>\n",
       "    <tr>\n",
       "      <th>0.0300</th>\n",
       "      <td>0.7843</td>\n",
       "    </tr>\n",
       "    <tr>\n",
       "      <th>0.0200</th>\n",
       "      <td>0.7869</td>\n",
       "    </tr>\n",
       "    <tr>\n",
       "      <th>0.0100</th>\n",
       "      <td>0.7895</td>\n",
       "    </tr>\n",
       "    <tr>\n",
       "      <th>-0.0000</th>\n",
       "      <td>0.7922</td>\n",
       "    </tr>\n",
       "  </tbody>\n",
       "</table>\n",
       "</div>"
      ],
      "text/plain": [
       "         bondprice\n",
       "0.1500      0.7536\n",
       "0.1400      0.7561\n",
       "0.1300      0.7586\n",
       "0.1200      0.7611\n",
       "0.1100      0.7637\n",
       "0.1000      0.7662\n",
       "0.0900      0.7688\n",
       "0.0800      0.7713\n",
       "0.0700      0.7739\n",
       "0.0600      0.7765\n",
       "0.0500      0.7791\n",
       "0.0400      0.7817\n",
       "0.0300      0.7843\n",
       "0.0200      0.7869\n",
       "0.0100      0.7895\n",
       "-0.0000     0.7922"
      ]
     },
     "metadata": {},
     "output_type": "display_data"
    }
   ],
   "source": [
    "hw3FD.useUpwind=True\n",
    "(rU, bondpriceU) = pricer_bond_vasicek_explicitFD(hw3contract,hw3dynamics,hw3FD)\n",
    "display_results(bondpriceU, rU, displayrows)"
   ]
  },
  {
   "cell_type": "code",
   "execution_count": 11,
   "metadata": {
    "execution": {
     "iopub.execute_input": "2022-02-12T03:43:26.661637Z",
     "iopub.status.busy": "2022-02-12T03:43:26.661143Z",
     "iopub.status.idle": "2022-02-12T03:43:29.055471Z",
     "shell.execute_reply": "2022-02-12T03:43:29.054501Z",
     "shell.execute_reply.started": "2022-02-12T03:43:26.661605Z"
    },
    "tags": []
   },
   "outputs": [
    {
     "data": {
      "text/html": [
       "<div>\n",
       "<style scoped>\n",
       "    .dataframe tbody tr th:only-of-type {\n",
       "        vertical-align: middle;\n",
       "    }\n",
       "\n",
       "    .dataframe tbody tr th {\n",
       "        vertical-align: top;\n",
       "    }\n",
       "\n",
       "    .dataframe thead th {\n",
       "        text-align: right;\n",
       "    }\n",
       "</style>\n",
       "<table border=\"1\" class=\"dataframe\">\n",
       "  <thead>\n",
       "    <tr style=\"text-align: right;\">\n",
       "      <th></th>\n",
       "      <th>bondprice</th>\n",
       "    </tr>\n",
       "  </thead>\n",
       "  <tbody>\n",
       "    <tr>\n",
       "      <th>0.1000</th>\n",
       "      <td>0.7662</td>\n",
       "    </tr>\n",
       "  </tbody>\n",
       "</table>\n",
       "</div>"
      ],
      "text/plain": [
       "        bondprice\n",
       "0.1000     0.7662"
      ]
     },
     "metadata": {},
     "output_type": "display_data"
    }
   ],
   "source": [
    "hw3FD.useUpwind=True\n",
    "hw3FD.deltat=0.0001\n",
    "\n",
    "(r, bondprice) = pricer_bond_vasicek_explicitFD(hw3contract,hw3dynamics,hw3FD)\n",
    "displayrows = (np.abs(r-0.1) < 1e-8)\n",
    "\n",
    "display_results(bondprice, r, displayrows)"
   ]
  },
  {
   "cell_type": "code",
   "execution_count": 12,
   "metadata": {
    "execution": {
     "iopub.execute_input": "2022-02-12T03:43:29.057847Z",
     "iopub.status.busy": "2022-02-12T03:43:29.057262Z",
     "iopub.status.idle": "2022-02-12T03:43:31.191993Z",
     "shell.execute_reply": "2022-02-12T03:43:31.191109Z",
     "shell.execute_reply.started": "2022-02-12T03:43:29.057809Z"
    },
    "tags": []
   },
   "outputs": [
    {
     "data": {
      "text/html": [
       "<div>\n",
       "<style scoped>\n",
       "    .dataframe tbody tr th:only-of-type {\n",
       "        vertical-align: middle;\n",
       "    }\n",
       "\n",
       "    .dataframe tbody tr th {\n",
       "        vertical-align: top;\n",
       "    }\n",
       "\n",
       "    .dataframe thead th {\n",
       "        text-align: right;\n",
       "    }\n",
       "</style>\n",
       "<table border=\"1\" class=\"dataframe\">\n",
       "  <thead>\n",
       "    <tr style=\"text-align: right;\">\n",
       "      <th></th>\n",
       "      <th>bondprice</th>\n",
       "    </tr>\n",
       "  </thead>\n",
       "  <tbody>\n",
       "    <tr>\n",
       "      <th>0.1000</th>\n",
       "      <td>0.7661</td>\n",
       "    </tr>\n",
       "  </tbody>\n",
       "</table>\n",
       "</div>"
      ],
      "text/plain": [
       "        bondprice\n",
       "0.1000     0.7661"
      ]
     },
     "metadata": {},
     "output_type": "display_data"
    }
   ],
   "source": [
    "hw3FD.useUpwind=False\n",
    "hw3FD.deltat=0.0001\n",
    "\n",
    "(r, bondprice) = pricer_bond_vasicek_explicitFD(hw3contract,hw3dynamics,hw3FD)\n",
    "displayrows = (np.abs(r-0.1) < 1e-8)\n",
    "\n",
    "display_results(bondprice, r, displayrows)"
   ]
  },
  {
   "cell_type": "markdown",
   "metadata": {},
   "source": [
    "#### (f)\n",
    "\n",
    "Ignoring stability issues and considering only consistency (i.e. “truncation error,” also known as “local discretization error”), the upwind explicit scheme, which uses one-sided spatial differences, discretizes the PDE with _______ accuracy than the standard explicit scheme, which uses central spatial differences.\n",
    "However, to actually guarantee convergence, the grid spacing must satisfy certain stability constraints. In a PDE exhibiting strong drift, we have just seen that these constraints may allow the upwind scheme _______ freedom in choosing grid spacing, compared to the standard scheme.\n",
    "\n",
    "less; greater"
   ]
  },
  {
   "cell_type": "markdown",
   "metadata": {},
   "source": [
    "#### (g)\n",
    "\n",
    "Why, intuitively, is the yield for r0 = 0.12 smaller than 0.12, whereas the yield for r0 = 0.02 is greater than 0.02?\n",
    "\n",
    "The interest rate dynamics $dr_t = \\kappa(\\theta-r_t)dt+\\sigma dW_t$ has a reversion term $\\theta=0.05$, meaning that in the market, a bond with $r_0=0.12$ will be priced at a premium whereas bonds with $r_0=0.02$ will be priced at discount."
   ]
  },
  {
   "cell_type": "code",
   "execution_count": 13,
   "metadata": {
    "execution": {
     "iopub.execute_input": "2022-02-12T03:43:31.193872Z",
     "iopub.status.busy": "2022-02-12T03:43:31.193514Z",
     "iopub.status.idle": "2022-02-12T03:43:31.201516Z",
     "shell.execute_reply": "2022-02-12T03:43:31.200432Z",
     "shell.execute_reply.started": "2022-02-12T03:43:31.193839Z"
    },
    "tags": []
   },
   "outputs": [
    {
     "name": "stdout",
     "output_type": "stream",
     "text": [
      "The yield to maturity for r_0=0.12 is 0.0546\n",
      "The yield to maturity for r_0=0.02 is 0.0480\n"
     ]
    }
   ],
   "source": [
    "r012 = np.log(1 / bondprice[np.abs(r-0.12) < 1e-8][0]) / 5\n",
    "r002 = np.log(1 / bondprice[np.abs(r-0.02) < 1e-8][0]) / 5\n",
    "\n",
    "print(f\"The yield to maturity for r_0=0.12 is {r012:.4f}\")\n",
    "print(f\"The yield to maturity for r_0=0.02 is {r002:.4f}\")"
   ]
  },
  {
   "cell_type": "markdown",
   "metadata": {},
   "source": [
    "# Problem 2\n",
    "\n",
    "#### (a)\n",
    "\n",
    "Are the dynamics (1) capable of generating a non-constant (with respect to T) term-structure of implied volatility? Are they capable of generating an implied volatility skew (non-constant with respect to K)? Explain briefly.\n",
    "\n",
    "Yes the dynamics of (1) are capable of generating a non-constant term-structure of implied volatility. However, the dynamics are not capable of generating volatility skew because $\\sigma(t)$ is not a function of $K$."
   ]
  },
  {
   "cell_type": "markdown",
   "metadata": {},
   "source": [
    "#### (b)\n",
    "\n",
    "Calibrating Local Volatility function"
   ]
  },
  {
   "cell_type": "code",
   "execution_count": 14,
   "metadata": {
    "execution": {
     "iopub.execute_input": "2022-02-12T03:43:31.203731Z",
     "iopub.status.busy": "2022-02-12T03:43:31.203200Z",
     "iopub.status.idle": "2022-02-12T03:43:31.408294Z",
     "shell.execute_reply": "2022-02-12T03:43:31.407552Z",
     "shell.execute_reply.started": "2022-02-12T03:43:31.203695Z"
    },
    "tags": []
   },
   "outputs": [
    {
     "name": "stdout",
     "output_type": "stream",
     "text": [
      "At time t=0.1, IV=0.4185\n",
      "At time t=0.2, IV=0.4110\n",
      "At time t=0.5, IV=0.3462\n"
     ]
    },
    {
     "data": {
      "image/png": "[encoded data removed]",
      "text/plain": [
       "<Figure size 432x288 with 1 Axes>"
      ]
     },
     "metadata": {
      "needs_background": "light"
     },
     "output_type": "display_data"
    }
   ],
   "source": [
    "def BScallPrice(sigma,S,rGrow,r,K,T):\n",
    "    F=S*np.exp(rGrow*T)\n",
    "    sd = sigma*np.sqrt(T)\n",
    "    d1 = np.log(F/K)/sd+sd/2\n",
    "    d2 = d1-sd\n",
    "    return np.exp(-r*T)*(F*norm.cdf(d1)-K*norm.cdf(d2))\n",
    "\n",
    "def IVofCall(C,S,rGrow,r,K,T):\n",
    "    F=S*np.exp(rGrow*T)\n",
    "    lowerbound = np.max([0,(F-K)*np.exp(-r*T)])\n",
    "    if C<lowerbound:\n",
    "        return np.nan\n",
    "    if C==lowerbound:\n",
    "        return 0\n",
    "    if C>=F*np.exp(-r*T):\n",
    "        return np.nan \n",
    "    hi=0.2\n",
    "    while BScallPrice(hi,S,rGrow,r,K,T)>C:\n",
    "        hi=hi/2\n",
    "    while BScallPrice(hi,S,rGrow,r,K,T)<C:\n",
    "        hi=hi*2\n",
    "    lo=hi/2\n",
    "    \n",
    "    def optim(sigma):\n",
    "        return BScallPrice(sigma,S,rGrow,r,K,T)-C\n",
    "    \n",
    "    impliedVolatility = bisect(optim, lo, hi)     # you fill this in, using bisect or brentq imported from scipy.optimize,\n",
    "                             # or by writing your own bisection algorithm.\n",
    "    return impliedVolatility\n",
    "\n",
    "S = 100\n",
    "K = 100\n",
    "r = 0.05\n",
    "rGrow = 0\n",
    "\n",
    "Cs = [5.25, 7.25, 9.5]\n",
    "Ts = [0.1, 0.2, 0.5]\n",
    "IVs = []\n",
    "for C, T in zip(Cs, Ts):\n",
    "    iv = IVofCall(C,S,rGrow,r,K,T)\n",
    "    IVs.append(iv)\n",
    "    print(f\"At time t={T:.1f}, IV={iv:.4f}\")\n",
    "\n",
    "sigt = interp1d(Ts, IVs, fill_value=\"extrapolate\", kind=\"quadratic\")\n",
    "time = np.linspace(0, 0.5, 100)\n",
    "ivt  = sigt(time)\n",
    "\n",
    "plt.plot(time, ivt)\n",
    "for C, T, IV in zip(Cs, Ts, IVs): plt.annotate(f\"Call price={C:.2f},\\nIV={IV:.4f}\", (T, IV))\n",
    "plt.title(\"IV Term Structure\")\n",
    "plt.show()"
   ]
  },
  {
   "cell_type": "markdown",
   "metadata": {},
   "source": [
    "#### (c)\n",
    "\n",
    "Price $C(\\sigma(0.4), S=100, ...)$"
   ]
  },
  {
   "cell_type": "code",
   "execution_count": 15,
   "metadata": {
    "execution": {
     "iopub.execute_input": "2022-02-12T03:43:31.410773Z",
     "iopub.status.busy": "2022-02-12T03:43:31.410421Z",
     "iopub.status.idle": "2022-02-12T03:43:31.416515Z",
     "shell.execute_reply": "2022-02-12T03:43:31.415768Z",
     "shell.execute_reply.started": "2022-02-12T03:43:31.410730Z"
    }
   },
   "outputs": [
    {
     "name": "stdout",
     "output_type": "stream",
     "text": [
      "The price for a call expiring in 0.4 years is 9.2485\n"
     ]
    }
   ],
   "source": [
    "call = BScallPrice(sigt(0.4),S,rGrow,r,K,0.4)\n",
    "\n",
    "print(f\"The price for a call expiring in 0.4 years is {call:.4f}\")"
   ]
  },
  {
   "cell_type": "code",
   "execution_count": null,
   "metadata": {},
   "outputs": [],
   "source": []
  }
 ],
 "metadata": {
  "anaconda-cloud": {},
  "kernelspec": {
   "display_name": "Python 3 (ipykernel)",
   "language": "python",
   "name": "python3"
  },
  "language_info": {
   "codemirror_mode": {
    "name": "ipython",
    "version": 3
   },
   "file_extension": ".py",
   "mimetype": "text/x-python",
   "name": "python",
   "nbconvert_exporter": "python",
   "pygments_lexer": "ipython3",
   "version": "3.9.10"
  },
  "toc": {
   "base_numbering": 1,
   "nav_menu": {},
   "number_sections": true,
   "sideBar": true,
   "skip_h1_title": false,
   "title_cell": "Table of Contents",
   "title_sidebar": "Contents",
   "toc_cell": false,
   "toc_position": {},
   "toc_section_display": true,
   "toc_window_display": false
  }
 },
 "nbformat": 4,
 "nbformat_minor": 4
}
