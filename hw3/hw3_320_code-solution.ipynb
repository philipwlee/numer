{
 "cells": [
  {
   "cell_type": "markdown",
   "metadata": {},
   "source": [
    "# FINM32000 HW3\n",
    "\n",
    "## P1.\n",
    "\n",
    "(a)\n",
    "\n",
    "$dC_t = \\frac{\\partial C}{\\partial r_t}dr_t+\\frac{\\partial C}{\\partial t}dt+\\frac{1}{2}\\frac{\\partial^2 C}{\\partial r_t^2}(dr_t)^2$\n",
    "\n",
    "$= \\alpha(r_t,t)\\frac{\\partial C}{\\partial r_t}dt+\\beta(r_t,t)\\frac{\\partial C}{\\partial r_t}dW_t+\\frac{\\partial C}{\\partial t}dt+\\frac{1}{2}\\frac{\\partial^2 C}{\\partial r_t^2}\\beta^2(r_t,t)dt$\n",
    "\n",
    "$=(\\alpha(r_t,t)\\frac{\\partial C}{\\partial r_t}+\\frac{1}{2}\\frac{\\partial^2 C}{\\partial r_t^2}\\beta^2(r_t,t)+\\frac{\\partial C}{\\partial t})dt+\\beta(r_t,t)\\frac{\\partial C}{\\partial r_t}dW_t$\n",
    "\n",
    "By setting drift equal to $rC$, we have the PDE:\n",
    "\n",
    "$$\n",
    "\\alpha(r,t)\\frac{\\partial C}{\\partial r}+\\frac{1}{2}\\frac{\\partial^2 C}{\\partial r^2}\\beta^2(r,t)+\\frac{\\partial C}{\\partial t}=rC(r,t)\n",
    "$$\n",
    "\n",
    "$$C(r_T,T)=F(r_T)$$\n",
    "\n",
    "(b)\n",
    "\n",
    "$\\kappa(\\theta-r_j)\\frac{\\partial C}{\\partial r}+\\frac{1}{2}\\frac{\\partial^2 C}{\\partial r^2}\\sigma^2+\\frac{\\partial C}{\\partial t}=r_jC(r_j,t)$\n",
    "\n",
    "$\\frac{\\partial C}{\\partial r}\\approx\\frac{C^{j+1}_{n+1}-C^{j-1}_{n+1}}{2\\Delta r}$\n",
    "\n",
    "$\\frac{\\partial^2 C}{\\partial r^2}\\approx\\frac{C^{j+1}_{n+1}-2C^{j}_{n+1}+C^{j-1}_{n+1}}{(\\Delta r)^2}$\n",
    "\n",
    "$\\frac{\\partial C}{\\partial t}\\approx\\frac{C^{j}_{n+1}-C^{j}_{n}}{\\Delta t}$\n",
    "\n",
    "$\\kappa(\\theta-r_j)\\frac{C^{j+1}_{n+1}-C^{j-1}_{n+1}}{2\\Delta r}+\\frac{1}{2}\\sigma^2\\frac{C^{j+1}_{n+1}-2C^{j}_{n+1}+C^{j-1}_{n+1}}{(\\Delta r)^2}+\\frac{C^{j}_{n+1}-C^{j}_{n}}{\\Delta t}=r_jC_{n}^{j}$\n",
    "\n",
    "$C_n^j=\\frac{1}{1+r_j\\Delta t}(q_uC^{j+1}_{n+1}+q_mC^{j}_{n+1}+q_dC^{j-1}_{n+1})$\n",
    "\n",
    "where\n",
    "\n",
    "$q_u = \\frac{1}{2}\\big[\\frac{\\kappa(\\theta-r_j)\\Delta t}{\\Delta r}+\\frac{\\sigma^2\\Delta t}{(\\Delta r)^2}\\big]$\n",
    "\n",
    "$q_m = 1-\\frac{\\sigma^2\\Delta t}{(\\Delta r)^2}$\n",
    "\n",
    "$q_u = \\frac{1}{2}\\big[-\\frac{\\kappa(\\theta-r_j)\\Delta t}{\\Delta r}+\\frac{\\sigma^2\\Delta t}{(\\Delta r)^2}\\big]$"
   ]
  },
  {
   "cell_type": "code",
   "execution_count": 1,
   "metadata": {
    "collapsed": true,
    "jupyter": {
     "outputs_hidden": true
    }
   },
   "outputs": [],
   "source": [
    "import numpy as np"
   ]
  },
  {
   "cell_type": "code",
   "execution_count": 2,
   "metadata": {
    "collapsed": true,
    "jupyter": {
     "outputs_hidden": true
    }
   },
   "outputs": [],
   "source": [
    "class Dynamics:\n",
    "    pass"
   ]
  },
  {
   "cell_type": "code",
   "execution_count": 3,
   "metadata": {
    "collapsed": true,
    "jupyter": {
     "outputs_hidden": true
    }
   },
   "outputs": [],
   "source": [
    "hw3dynamics=Dynamics()\n",
    "hw3dynamics.kappa = 3\n",
    "hw3dynamics.theta = 0.05\n",
    "hw3dynamics.sigma = 0.03"
   ]
  },
  {
   "cell_type": "code",
   "execution_count": 4,
   "metadata": {
    "collapsed": true,
    "jupyter": {
     "outputs_hidden": true
    }
   },
   "outputs": [],
   "source": [
    "class Contract:\n",
    "    pass"
   ]
  },
  {
   "cell_type": "code",
   "execution_count": 5,
   "metadata": {
    "collapsed": true,
    "jupyter": {
     "outputs_hidden": true
    }
   },
   "outputs": [],
   "source": [
    "hw3contract=Contract()\n",
    "hw3contract.T = 5"
   ]
  },
  {
   "cell_type": "code",
   "execution_count": 6,
   "metadata": {
    "collapsed": true,
    "jupyter": {
     "outputs_hidden": true
    }
   },
   "outputs": [],
   "source": [
    "class FD:\n",
    "    pass"
   ]
  },
  {
   "cell_type": "code",
   "execution_count": 7,
   "metadata": {
    "collapsed": true,
    "jupyter": {
     "outputs_hidden": true
    }
   },
   "outputs": [],
   "source": [
    "hw3FD=FD()\n",
    "hw3FD.rMax=0.35\n",
    "hw3FD.rMin=-0.25\n",
    "hw3FD.deltar=0.01\n",
    "hw3FD.deltat=0.01\n",
    "hw3FD.useUpwind=False\n"
   ]
  },
  {
   "cell_type": "code",
   "execution_count": 8,
   "metadata": {
    "collapsed": true,
    "jupyter": {
     "outputs_hidden": true
    }
   },
   "outputs": [],
   "source": [
    "# You complete the coding of this function\n",
    "\n",
    "def pricer_bond_vasicek_explicitFD(contract,dynamics,fd):\n",
    "# returns array of all initial short rates,\n",
    "# and the corresponding array of zero-coupon\n",
    "# T-maturity bond prices\n",
    "\n",
    "    T = contract.T\n",
    "    kappa, theta, sigma = dynamics.kappa, dynamics.theta, dynamics.sigma    \n",
    "    rMax, rMin, deltar, deltat = fd.rMax, fd.rMin, fd.deltar, fd.deltat    \n",
    "    N=round(T/deltat)\n",
    "    if abs(N-T/deltat) > 1e-12:\n",
    "        raise ValueError(\"Bad delta t\")\n",
    "        \n",
    "    r=np.arange(rMax,rMin-deltar/2,-deltar)   #I'm making the FIRST indices of the array correspond to HIGH levels of r\n",
    "    bondprice=np.ones(np.size(r))\n",
    "    a=kappa*(theta-r)*deltat/deltar\n",
    "    b=(sigma**2*deltat/(deltar**2))\n",
    "  \n",
    "    if fd.useUpwind:\n",
    "        qu=    0.5*(b+a+abs(a))\n",
    "        qd=    0.5*(b-a+abs(a))\n",
    "        qm=    1-qu-qd\n",
    "        \n",
    "    else:\n",
    "        qu=    0.5*(a+b)\n",
    "        qm=    1-b\n",
    "        qd=    0.5*(b-a)\n",
    "        \n",
    "    for t in np.arange(N-1,-1,-1)*deltat:\n",
    "        bondprice=1/(1+r*deltat)*(qd*np.roll(bondprice,-1)+qm*bondprice+qu*np.roll(bondprice,1))\n",
    "        # It is not obvious in this case, \n",
    "        # what boundary conditions to impose at the top and bottom\n",
    "        # so let us impose \"linearity\" boundary conditions\n",
    "        bondprice[0]=2*bondprice[1]-bondprice[2]\n",
    "        bondprice[-1]=2*bondprice[-2]-bondprice[-3]\n",
    "        \n",
    "    return (r, bondprice)"
   ]
  },
  {
   "cell_type": "code",
   "execution_count": 9,
   "metadata": {
    "collapsed": true,
    "jupyter": {
     "outputs_hidden": true
    }
   },
   "outputs": [],
   "source": [
    "(r, bondprice) = pricer_bond_vasicek_explicitFD(hw3contract,hw3dynamics,hw3FD)"
   ]
  },
  {
   "cell_type": "code",
   "execution_count": 10,
   "metadata": {
    "collapsed": true,
    "jupyter": {
     "outputs_hidden": true
    }
   },
   "outputs": [],
   "source": [
    "np.set_printoptions(precision=4)\n",
    "np.set_printoptions(suppress=True)\n",
    "displayrows=np.logical_and(r<0.15+hw3FD.deltar/2, r>0.0-hw3FD.deltar/2)\n",
    "answer_central=np.stack((r, bondprice),1)[displayrows]"
   ]
  },
  {
   "cell_type": "code",
   "execution_count": 11,
   "metadata": {},
   "outputs": [
    {
     "name": "stdout",
     "output_type": "stream",
     "text": [
      "[[  1.5000e-01  -1.4273e+09]\n",
      " [  1.4000e-01   1.6361e+08]\n",
      " [  1.3000e-01   2.2294e+07]\n",
      " [  1.2000e-01  -1.3724e+06]\n",
      " [  1.1000e-01  -1.3361e+05]\n",
      " [  1.0000e-01   3.2966e+03]\n",
      " [  9.0000e-02   1.3021e+02]\n",
      " [  8.0000e-02   7.7128e-01]\n",
      " [  7.0000e-02   7.7385e-01]\n",
      " [  6.0000e-02   7.7643e-01]\n",
      " [  5.0000e-02   7.7902e-01]\n",
      " [  4.0000e-02   7.8162e-01]\n",
      " [  3.0000e-02   7.8423e-01]\n",
      " [  2.0000e-02   7.8685e-01]\n",
      " [  1.0000e-02   1.4165e+03]\n",
      " [ -3.3307e-16   5.1498e+04]]\n"
     ]
    }
   ],
   "source": [
    "print(answer_central)"
   ]
  },
  {
   "cell_type": "markdown",
   "metadata": {},
   "source": [
    "(c)\n",
    "\n",
    "When $\\kappa(\\theta-r_j)\\ge 0$\n",
    "\n",
    "$\\frac{\\partial C}{\\partial r}\\approx\\frac{C^{j+1}_{n+1}-C^{j}_{n+1}}{\\Delta r}$\n",
    "\n",
    "$\\kappa(\\theta-r_j)\\frac{C^{j+1}_{n+1}-C^{j}_{n+1}}{\\Delta r}+\\frac{1}{2}\\sigma^2\\frac{C^{j+1}_{n+1}-2C^{j}_{n+1}+C^{j-1}_{n+1}}{(\\Delta r)^2}+\\frac{C^{j}_{n+1}-C^{j}_{n}}{\\Delta t}=r_jC_{n}^{j}$\n",
    "\n",
    "$q_u = \\frac{\\kappa(\\theta-r_j)\\Delta t}{\\Delta r}+\\frac{\\sigma^2\\Delta t}{2(\\Delta r)^2}$\n",
    "\n",
    "$q_m = 1-\\frac{\\sigma^2\\Delta t}{(\\Delta r)^2}-\\frac{\\kappa(\\theta-r_j)\\Delta t}{\\Delta r}$\n",
    "\n",
    "$q_d = \\frac{\\sigma^2\\Delta t}{2(\\Delta r)^2}$\n",
    "\n",
    "When $\\kappa(\\theta-r_j) < 0$\n",
    "\n",
    "$\\frac{\\partial C}{\\partial r}\\approx\\frac{C^{j+1}_{n}-C^{j}_{n-1}}{\\Delta r}$\n",
    "\n",
    "$\\kappa(\\theta-r_j)\\frac{C^{j}_{n+1}-C^{j-1}_{n+1}}{\\Delta r}+\\frac{1}{2}\\sigma^2\\frac{C^{j+1}_{n+1}-2C^{j}_{n+1}+C^{j-1}_{n+1}}{(\\Delta r)^2}+\\frac{C^{j}_{n+1}-C^{j}_{n}}{\\Delta t}=r_jC_{n}^{j}$\n",
    "\n",
    "$q_u = \\frac{\\sigma^2\\Delta t}{2(\\Delta r)^2}$\n",
    "\n",
    "$q_m = 1-\\frac{\\sigma^2\\Delta t}{(\\Delta r)^2}+\\frac{\\kappa(\\theta-r_j)\\Delta t}{\\Delta r}$\n",
    "\n",
    "$q_d = \\frac{\\sigma^2\\Delta t}{2(\\Delta r)^2}-\\frac{\\kappa(\\theta-r_j)\\Delta t}{\\Delta r}$\n",
    "\n",
    "Or to sum up for easier implementation:\n",
    "\n",
    "$q_u = \\frac{\\sigma^2\\Delta t}{2(\\Delta r)^2}+(\\frac{\\kappa(\\theta-r_j)\\Delta t}{\\Delta r})^+$\n",
    "\n",
    "$q_m = 1-\\frac{\\sigma^2\\Delta t}{(\\Delta r)^2}-\\big|\\frac{\\kappa(\\theta-r_j)\\Delta t}{\\Delta r}\\big|=1-q_u-q_d$\n",
    "\n",
    "$q_u = \\frac{\\sigma^2\\Delta t}{2(\\Delta r)^2}+(-\\frac{\\kappa(\\theta-r_j)\\Delta t}{\\Delta r})^+$"
   ]
  },
  {
   "cell_type": "code",
   "execution_count": 12,
   "metadata": {
    "collapsed": true,
    "jupyter": {
     "outputs_hidden": true
    }
   },
   "outputs": [],
   "source": [
    "hw3FD.useUpwind=True\n",
    "(r, bondprice) = pricer_bond_vasicek_explicitFD(hw3contract,hw3dynamics,hw3FD)"
   ]
  },
  {
   "cell_type": "code",
   "execution_count": 13,
   "metadata": {
    "collapsed": true,
    "jupyter": {
     "outputs_hidden": true
    }
   },
   "outputs": [],
   "source": [
    "np.set_printoptions(precision=4)\n",
    "np.set_printoptions(suppress=True)\n",
    "displayrows=np.logical_and(r<0.15+hw3FD.deltar/2, r>0.0-hw3FD.deltar/2)\n",
    "answer_upwind = np.stack((r, bondprice),1)[displayrows]"
   ]
  },
  {
   "cell_type": "code",
   "execution_count": 14,
   "metadata": {},
   "outputs": [
    {
     "name": "stdout",
     "output_type": "stream",
     "text": [
      "[[ 0.15    0.7536]\n",
      " [ 0.14    0.7561]\n",
      " [ 0.13    0.7586]\n",
      " [ 0.12    0.7611]\n",
      " [ 0.11    0.7637]\n",
      " [ 0.1     0.7662]\n",
      " [ 0.09    0.7688]\n",
      " [ 0.08    0.7713]\n",
      " [ 0.07    0.7739]\n",
      " [ 0.06    0.7765]\n",
      " [ 0.05    0.7791]\n",
      " [ 0.04    0.7817]\n",
      " [ 0.03    0.7843]\n",
      " [ 0.02    0.7869]\n",
      " [ 0.01    0.7895]\n",
      " [-0.      0.7922]]\n"
     ]
    }
   ],
   "source": [
    "print(answer_upwind)"
   ]
  },
  {
   "cell_type": "markdown",
   "metadata": {},
   "source": [
    "(d)\n",
    "\n",
    "By Taylor's theorem:\n",
    "\n",
    "$f(x+h)=f(x)+hf'(x)+\\frac{1}{2}h^2f''(x)+O(h^3)$\n",
    "\n",
    "$f(x-h)=f(x)-hf'(x)+\\frac{1}{2}h^2f''(x)+O(h^3)$\n",
    "\n",
    "$\\therefore\\big|\\frac{f(x+h)-f(x)}{h}-f'(x)\\big|=\\frac{1}{2}hf''(x)+\\frac{O(h^3)}{h}=O(h)$\n",
    "\n",
    "$\\big|\\frac{f(x+h)-f(x-h)}{2h}-f'(x)\\big|=\\frac{O(h^3)}{h}=O(h^2)$"
   ]
  },
  {
   "cell_type": "markdown",
   "metadata": {},
   "source": [
    "(e)"
   ]
  },
  {
   "cell_type": "code",
   "execution_count": 15,
   "metadata": {},
   "outputs": [
    {
     "data": {
      "text/plain": [
       "3296.5929237489718"
      ]
     },
     "execution_count": 15,
     "metadata": {},
     "output_type": "execute_result"
    }
   ],
   "source": [
    "answer_central[abs(answer_central[:,0]-0.1)<1e-12][0,1]"
   ]
  },
  {
   "cell_type": "code",
   "execution_count": 16,
   "metadata": {},
   "outputs": [
    {
     "data": {
      "text/plain": [
       "0.76622528824505232"
      ]
     },
     "execution_count": 16,
     "metadata": {},
     "output_type": "execute_result"
    }
   ],
   "source": [
    "answer_upwind[abs(answer_upwind[:,0]-0.1)<1e-12][0,1]"
   ]
  },
  {
   "cell_type": "markdown",
   "metadata": {},
   "source": [
    "The upwind calculation is much more accurate"
   ]
  },
  {
   "cell_type": "markdown",
   "metadata": {},
   "source": [
    "(f)less;greater"
   ]
  },
  {
   "cell_type": "markdown",
   "metadata": {},
   "source": [
    "(g)"
   ]
  },
  {
   "cell_type": "code",
   "execution_count": 17,
   "metadata": {},
   "outputs": [
    {
     "data": {
      "text/plain": [
       "0.05458660238621129"
      ]
     },
     "execution_count": 17,
     "metadata": {},
     "output_type": "execute_result"
    }
   ],
   "source": [
    "#0.12 case\n",
    "pt = answer_upwind[abs(answer_central[:,0]-0.12)<1e-12][0,1]\n",
    "ytm = np.log(abs(1/pt))/5.0\n",
    "ytm"
   ]
  },
  {
   "cell_type": "code",
   "execution_count": 18,
   "metadata": {},
   "outputs": [
    {
     "data": {
      "text/plain": [
       "0.047926845240380489"
      ]
     },
     "execution_count": 18,
     "metadata": {},
     "output_type": "execute_result"
    }
   ],
   "source": [
    "#0.02 case\n",
    "pt = answer_upwind[abs(answer_central[:,0]-0.02)<1e-12][0,1]\n",
    "ytm = np.log(abs(1/pt))/5.0\n",
    "ytm"
   ]
  },
  {
   "cell_type": "markdown",
   "metadata": {},
   "source": [
    "Intuitions:\n",
    "Intuitively, the mean of the interest rate is 0.05 as $\\theta = 0.05$ \n",
    "\n",
    "So given $r_0 = 0.12 > 0.05 = \\theta$, we may expect $r_0>ytm>\\theta$. \n",
    "\n",
    "Similarly, when $r_0 = 0.02$, $r_0 < ytm < \\theta$"
   ]
  },
  {
   "cell_type": "markdown",
   "metadata": {},
   "source": [
    "## P2\n",
    "\n",
    "(a) By lecture note:\n",
    "\n",
    "$\\sigma_{imp}=\\bar{\\sigma_t}=\\sqrt{\\frac{1}{T}\\int_0^T\\sigma^2(t)dt}$\n",
    "\n",
    "which is a function of $T$ but not $K$\n",
    "\n",
    "Therefore the dynamics can generate non-constant term-structure of implied volatility but not an implied volatility skew.\n",
    "\n",
    "(b)\n",
    "\n",
    "Borrow the IVofCall function from HW1:"
   ]
  },
  {
   "cell_type": "code",
   "execution_count": 19,
   "metadata": {
    "collapsed": true,
    "jupyter": {
     "outputs_hidden": true
    }
   },
   "outputs": [],
   "source": [
    "from scipy.stats import norm\n",
    "from scipy.optimize import bisect\n",
    "\n",
    "def BScallPrice(sigma,S,rGrow,r,K,T):\n",
    "    F=S*np.exp(rGrow*T)\n",
    "    sd = sigma*np.sqrt(T)\n",
    "    d1 = np.log(F/K)/sd+sd/2\n",
    "    d2 = d1-sd\n",
    "    return np.exp(-r*T)*(F*norm.cdf(d1)-K*norm.cdf(d2))\n",
    "\n",
    "def IVofCall(C,S,rGrow,r,K,T):\n",
    "    F=S*np.exp(rGrow*T)\n",
    "    lowerbound = np.max([0,(F-K)*np.exp(-r*T)])\n",
    "    if C<lowerbound:\n",
    "        return np.nan\n",
    "    if C==lowerbound:\n",
    "        return 0\n",
    "    if C>=F*np.exp(-r*T):\n",
    "        return np.nan \n",
    "    hi=0.2\n",
    "    while BScallPrice(hi,S,rGrow,r,K,T)>C:\n",
    "        hi=hi/2\n",
    "    while BScallPrice(hi,S,rGrow,r,K,T)<C:\n",
    "        hi=hi*2\n",
    "    lo=hi/2\n",
    "    impliedVolatility = bisect(lambda x: BScallPrice(x,S,rGrow,r,K,T)-C,hi,lo)   # you fill this in, using bisect or brentq imported from scipy.optimize,\n",
    "    return impliedVolatility"
   ]
  },
  {
   "cell_type": "code",
   "execution_count": 20,
   "metadata": {},
   "outputs": [
    {
     "name": "stdout",
     "output_type": "stream",
     "text": [
      "[0.3973203857967747, 0.3801712915519602, 0.2950972521750374]\n"
     ]
    }
   ],
   "source": [
    "S = 100\n",
    "K = 100\n",
    "rGrow = r = 0.05\n",
    "T = [0.1,0.2,0.5]\n",
    "C = [5.25,7.25,9.5]\n",
    "imp_vols = []\n",
    "for i in range(3):\n",
    "    imp_vols.append(IVofCall(C[i],S,rGrow,r,K,T[i]))\n",
    "print(imp_vols)"
   ]
  },
  {
   "cell_type": "markdown",
   "metadata": {},
   "source": [
    "Denote the 3 answers as $\\sigma_1,\\sigma_2,\\sigma_3$\n",
    "\n",
    "We want to create a step function such that \n",
    "\n",
    "$\\bar{\\sigma_t}=\\sqrt{\\frac{1}{T}\\int_0^T\\sigma^2(t)dt}$\n",
    "\n",
    "has value $\\sigma_1,\\sigma_2,\\sigma_3$ at $t = 0.1,0.2,0.5$\n",
    "\n",
    "A local volatility function would be:\n",
    "\n",
    "$\\sigma(t)=\\begin{cases} \n",
    "      \\sigma_1 & 0 \\leq t\\leq 0.1 \\\\\n",
    "      \\sqrt{2\\sigma_2^2-\\sigma_1^2} & 0.1 < t \\leq 0.2\\\\\n",
    "      \\sqrt{\\frac{1}{3}(5\\sigma_3^2-2\\sigma_2^2)} & 0.2 < t \\leq 0.5\n",
    "\\end{cases}$\n",
    "\n"
   ]
  },
  {
   "cell_type": "markdown",
   "metadata": {},
   "source": [
    "(c)\n",
    "\n",
    "$\\bar\\sigma_{0.4}=\\sqrt{\\frac{1}{0.4}\\int_0^{0.4}\\sigma^2(t)dt}$\n",
    "\n",
    "$=\\sqrt{\\frac{1}{0.4}*(0.1\\sigma_1^2+0.1(2\\sigma_2^2-\\sigma_1^2)+0.2(\\frac{1}{3}(5\\sigma_3^2-2\\sigma_2^2))}$\n",
    "\n",
    "$=\\sqrt{\\frac{5}{6}\\sigma_3^2+\\frac{1}{6}\\sigma^2_2}$\n",
    "\n",
    "The exact value as well as the final price calculated in code below"
   ]
  },
  {
   "cell_type": "code",
   "execution_count": 21,
   "metadata": {},
   "outputs": [
    {
     "name": "stdout",
     "output_type": "stream",
     "text": [
      "price of European call with expiry 0.4: 8.78420177592\n"
     ]
    }
   ],
   "source": [
    "vol_c = ((5*imp_vols[2]**2/6)+(1*imp_vols[1]**2/6))** 0.5\n",
    "T_c = 0.4\n",
    "price = BScallPrice(vol_c,S,rGrow,r,K,T_c)\n",
    "print(\"price of European call with expiry 0.4: %s\" %price)"
   ]
  },
  {
   "cell_type": "code",
   "execution_count": null,
   "metadata": {
    "collapsed": true,
    "jupyter": {
     "outputs_hidden": true
    }
   },
   "outputs": [],
   "source": []
  }
 ],
 "metadata": {
  "anaconda-cloud": {},
  "kernelspec": {
   "display_name": "Python 3 (ipykernel)",
   "language": "python",
   "name": "python3"
  },
  "language_info": {
   "codemirror_mode": {
    "name": "ipython",
    "version": 3
   },
   "file_extension": ".py",
   "mimetype": "text/x-python",
   "name": "python",
   "nbconvert_exporter": "python",
   "pygments_lexer": "ipython3",
   "version": "3.9.10"
  },
  "toc": {
   "base_numbering": 1,
   "nav_menu": {},
   "number_sections": true,
   "sideBar": true,
   "skip_h1_title": false,
   "title_cell": "Table of Contents",
   "title_sidebar": "Contents",
   "toc_cell": false,
   "toc_position": {},
   "toc_section_display": true,
   "toc_window_display": false
  }
 },
 "nbformat": 4,
 "nbformat_minor": 4
}
