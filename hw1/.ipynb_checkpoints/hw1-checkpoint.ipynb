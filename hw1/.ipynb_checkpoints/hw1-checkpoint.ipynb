{
 "cells": [
  {
   "cell_type": "code",
   "execution_count": 8,
   "metadata": {},
   "outputs": [],
   "source": [
    "import numpy as np\n",
    "from scipy.stats import norm\n",
    "from scipy.optimize import bisect, brentq"
   ]
  },
  {
   "cell_type": "markdown",
   "metadata": {
    "tags": []
   },
   "source": [
    "# Problem 1"
   ]
  },
  {
   "cell_type": "code",
   "execution_count": 1,
   "metadata": {},
   "outputs": [],
   "source": [
    "#Will use Python's objects just to store variables, without defining any methods.\n",
    "#(Alternatively, storing a collection of named attributes could be done \n",
    "#without introducing classes/objects, for instance by using Python's dictionary structures.\n",
    "#Decided to use classes/objects here, in order to facilitate possible future usage of OOP, if desired.)\n",
    "\n",
    "class Contract:\n",
    "    def __init__(self):\n",
    "        self.K=0\n",
    "        self.T=0.0\n",
    "        self.H=0\n",
    "        self.observationinterval=0.0"
   ]
  },
  {
   "cell_type": "code",
   "execution_count": 2,
   "metadata": {},
   "outputs": [],
   "source": [
    "hw1contract=Contract()\n",
    "hw1contract.K = 95\n",
    "hw1contract.T = 0.25\n",
    "hw1contract.H = 107\n",
    "hw1contract.observationinterval = 0.02"
   ]
  },
  {
   "cell_type": "code",
   "execution_count": 3,
   "metadata": {},
   "outputs": [],
   "source": [
    "class Dynamics:\n",
    "    def __init__(self):\n",
    "        self.S0=0.0\n",
    "        self.sigma=0.0\n",
    "        self.r=0.0"
   ]
  },
  {
   "cell_type": "code",
   "execution_count": 4,
   "metadata": {},
   "outputs": [],
   "source": [
    "hw1dynamics=Dynamics()\n",
    "hw1dynamics.S0 = 100\n",
    "hw1dynamics.sigma = 0.4\n",
    "hw1dynamics.r = 0.05"
   ]
  },
  {
   "cell_type": "code",
   "execution_count": 5,
   "metadata": {},
   "outputs": [],
   "source": [
    "class Tree:\n",
    "    def __init__(self):\n",
    "        self.N=0"
   ]
  },
  {
   "cell_type": "code",
   "execution_count": 6,
   "metadata": {},
   "outputs": [],
   "source": [
    "hw1tree=Tree()\n",
    "hw1tree.N=100"
   ]
  },
  {
   "cell_type": "code",
   "execution_count": 33,
   "metadata": {},
   "outputs": [
    {
     "name": "stdout",
     "output_type": "stream",
     "text": [
      "0.2716815342839271 0.2744527986267637 0.4538656670893092\n"
     ]
    }
   ],
   "source": [
    "\"\"\"Scratch Work Here\"\"\"\n",
    "\n",
    "T, N, r, sigma, H, S0 = 0.25, 100, 0.05, 0.4, 107, 100\n",
    "deltat = T/N\n",
    "\n",
    "def find_dx_j(T, N, sigma, H, S0):\n",
    "    deltat = T/N #Fill this in with a scalar.\n",
    "    tgt = sigma * (3 * deltat)**0.5\n",
    "    lastddx = np.abs(tgt - np.log(H/S0) / (0.5))\n",
    "    j=0; decreasing = True\n",
    "    while decreasing:\n",
    "        thisddx = np.abs(tgt - np.log(H/S0) / (j+1 + 0.5))\n",
    "        # print(j, np.log(H/S0) / (j + 0.5), tgt, lastddx)\n",
    "        if thisddx < lastddx:\n",
    "            lastddx = thisddx\n",
    "            j+=1\n",
    "        else: decreasing=False\n",
    "    return np.log(H/S0) / (j + 0.5), j\n",
    "\n",
    "deltax, j = find_dx_j(T, N, sigma, H, S0)\n",
    "\n",
    "def calc_nu(r, sigma):\n",
    "    return r-sigma**2/2\n",
    "\n",
    "def calc_Ps(sigma, nu, deltat, deltax):\n",
    "    inside = deltat * (sigma**2 + nu**2 * deltat) / deltax**2\n",
    "    back = nu * deltat / deltax\n",
    "    Pu = 1/2 * (inside + back)\n",
    "    Pd = 1/2 * (inside - back)\n",
    "    Pm = 1 - inside\n",
    "    assert np.abs(Pu+Pd+Pm-1) < 1e-8\n",
    "    return Pu, Pd, Pm\n",
    "\n",
    "nu = calc_nu(r, sigma)\n",
    "Pu, Pd, Pm = calc_Ps(sigma, nu, deltat, deltax)\n",
    "print(Pu, Pd, Pm)"
   ]
  },
  {
   "cell_type": "code",
   "execution_count": 34,
   "metadata": {},
   "outputs": [],
   "source": [
    "def barrier_trinom_pricer(dynamics, contract, tree):\n",
    "    \"\"\"Trinomial Option\"\"\"\n",
    "    def find_dx_j(T, N, sigma, H, S0):\n",
    "        deltat = T/N #Fill this in with a scalar.\n",
    "        tgt = sigma * (3 * deltat)**0.5\n",
    "        lastddx = np.abs(tgt - np.log(H/S0) / (0.5))\n",
    "        j=0; decreasing = True\n",
    "        while decreasing:\n",
    "            thisddx = np.abs(tgt - np.log(H/S0) / (j+1 + 0.5))\n",
    "            if thisddx < lastddx:\n",
    "                lastddx = thisddx\n",
    "                j+=1\n",
    "            else: decreasing=False\n",
    "        return np.log(H/S0) / (j + 0.5), j\n",
    "    \n",
    "    def calc_nu(r, sigma):\n",
    "        return r-sigma**2/2\n",
    "\n",
    "    def calc_Ps(sigma, nu, deltat, deltax):\n",
    "        inside = deltat * (sigma**2 + nu**2 * deltat) / deltax**2\n",
    "        back = nu * deltat / deltax\n",
    "        Pu = 1/2 * (inside + back)\n",
    "        Pd = 1/2 * (inside - back)\n",
    "        Pm = 1 - inside\n",
    "        assert np.abs(Pu+Pd+Pm-1) < 1e-8\n",
    "        return Pu, Pd, Pm\n",
    "    \n",
    "    def back_induct(r, deltat, Pu, Pd, Pm, Cu, Cd, Cm):\n",
    "        return np.exp(-r*deltat) * (Pu*Cu + Pd*Cd + Pm*Cm)\n",
    "    \n",
    "    #--------------------------------------------------------------------\n",
    "    \n",
    "    S0, sigma, r = dynamics.S0, dynamics.sigma, dynamics.r\n",
    "    K, T, H, interval  = contract.K, contract.T, contract.H, contract.observationinterval\n",
    "    N = tree.N\n",
    "\n",
    "    deltat = T/N #Fill this in with a scalar.\n",
    "    deltax, j = find_dx_j(T, N, sigma, H, S0)  #Fill this in with a scalar.\n",
    "    \n",
    "    S=S0*np.exp(np.linspace(N, -N, num=2*N+1, endpoint=True)*deltax)  \n",
    "    #Here I decided to make the SMALLER indexes in this array correspond to HIGHER S\n",
    "\n",
    "    if abs(interval/deltat-round(interval/deltat)) > 1e-12:\n",
    "        raise ValueError(\"This value of N fails to place the observation dates in the tree.\")\n",
    "\n",
    "    nu = calc_nu(r, sigma) # complete this \n",
    "    Pu, Pd, Pm = calc_Ps(sigma, nu, deltat, deltax)\n",
    "        \n",
    "    optionprice = np.maximum(K-S,0)   #an array of time-T option prices.\n",
    "        \n",
    "    #Next, induct backwards to time 0, updating the optionprice array \n",
    "    #Hint: if x is an array, then what are x[2:] and x[1:-1] and x[:-2]\n",
    "    \n",
    "    for t in np.linspace(N-1, 0, num=N, endpoint=True)*deltat:\n",
    "        # insert lines of code here if needed\n",
    "        op = optionprice\n",
    "        optionprice = back_induct(r, deltat, Pu, Pd, Pm, op[:-2], op[2:], op[1:-1])   #complete this\n",
    "\n",
    "    return optionprice[0]   \n",
    "    #The [0] is assuming that we are shrinking the optionprice array in each iteration of the loop,\n",
    "    #until finally there is only 1 element in the array.\n",
    "    #If instead you are keeping unchanged the size of the optionprice array in each iteration, \n",
    "    #then you need to change the [0] to a different index.\n",
    "\n"
   ]
  },
  {
   "cell_type": "code",
   "execution_count": 35,
   "metadata": {},
   "outputs": [
    {
     "data": {
      "text/plain": [
       "5.01589721447869"
      ]
     },
     "execution_count": 35,
     "metadata": {},
     "output_type": "execute_result"
    }
   ],
   "source": [
    "barrier_trinom_pricer(hw1dynamics, hw1contract, hw1tree)"
   ]
  },
  {
   "cell_type": "markdown",
   "metadata": {},
   "source": [
    "# Problem 2"
   ]
  },
  {
   "cell_type": "code",
   "execution_count": 36,
   "metadata": {},
   "outputs": [],
   "source": [
    "def BScallPrice(sigma,S,rGrow,r,K,T):\n",
    "    F=S*np.exp(rGrow*T)\n",
    "    sd = sigma*np.sqrt(T)\n",
    "    d1 = np.log(F/K)/sd+sd/2\n",
    "    d2 = d1-sd\n",
    "    return np.exp(-r*T)*(F*norm.cdf(d1)-K*norm.cdf(d2))"
   ]
  },
  {
   "cell_type": "code",
   "execution_count": 41,
   "metadata": {},
   "outputs": [
    {
     "data": {
      "text/plain": [
       "10.519541063676975"
      ]
     },
     "execution_count": 41,
     "metadata": {},
     "output_type": "execute_result"
    }
   ],
   "source": [
    "BScallPrice(0.4,100,0,0,95,0.25)"
   ]
  },
  {
   "cell_type": "code",
   "execution_count": 38,
   "metadata": {},
   "outputs": [
    {
     "data": {
      "text/plain": [
       "12.002428410188138"
      ]
     },
     "execution_count": 38,
     "metadata": {},
     "output_type": "execute_result"
    }
   ],
   "source": [
    "BScallPrice(0.302,100,0,0,100,1)"
   ]
  },
  {
   "cell_type": "code",
   "execution_count": null,
   "metadata": {},
   "outputs": [],
   "source": [
    "def IVofCall(C,S,rGrow,r,K,T):\n",
    "    F=S*np.exp(rGrow*T)\n",
    "    lowerbound = np.max([0,(F-K)*np.exp(-r*T)])\n",
    "    if C<lowerbound:\n",
    "        return np.nan\n",
    "    if C==lowerbound:\n",
    "        return 0\n",
    "    if C>=F*np.exp(-r*T):\n",
    "        return np.nan \n",
    "    hi=0.2\n",
    "    while BScallPrice(hi,S,rGrow,r,K,T)>C:\n",
    "        hi=hi/2\n",
    "    while BScallPrice(hi,S,rGrow,r,K,T)<C:\n",
    "        hi=hi*2\n",
    "    lo=hi/2\n",
    "    # We have calculated \"lo\" and \"hi\" which bound the implied volatility from below and above. \n",
    "    # In other words, the implied volatility is somewhere in the interval [lo,hi].\n",
    "    # Then, to calculate the implied volatility within that interval, \n",
    "    # for purposes of this homework, you may either (A) write your own bisection algorithm, \n",
    "    # or (B) use scipy.optimize.bisect or (C) use scipy.optimize.brentq\n",
    "    # You will need to provide lo and hi to those solvers.\n",
    "    # There are other solvers that do not require you to bound the solution \n",
    "    # from below and above (for instance, scipy.optimize.fsolve is a useful solver).  \n",
    "    # However, if you are able to bound the solution (of a single-variable problem), \n",
    "    # then bisection or Brent will be more reliable.\n",
    "    \n",
    "    impliedVolatility =      # you fill this in, using bisect or brentq imported from scipy.optimize,\n",
    "                             # or by writing your own bisection algorithm.\n",
    "    return impliedVolatility"
   ]
  }
 ],
 "metadata": {
  "anaconda-cloud": {},
  "kernelspec": {
   "display_name": "Python 3 (ipykernel)",
   "language": "python",
   "name": "python3"
  },
  "language_info": {
   "codemirror_mode": {
    "name": "ipython",
    "version": 3
   },
   "file_extension": ".py",
   "mimetype": "text/x-python",
   "name": "python",
   "nbconvert_exporter": "python",
   "pygments_lexer": "ipython3",
   "version": "3.9.7"
  }
 },
 "nbformat": 4,
 "nbformat_minor": 4
}
