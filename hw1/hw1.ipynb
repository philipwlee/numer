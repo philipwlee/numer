{
 "cells": [
  {
   "cell_type": "code",
   "execution_count": 1,
   "metadata": {},
   "outputs": [],
   "source": [
    "import numpy as np\n",
    "from scipy.stats import norm\n",
    "from scipy.optimize import bisect, brentq"
   ]
  },
  {
   "cell_type": "markdown",
   "metadata": {},
   "source": [
    "# Problem 1"
   ]
  },
  {
   "cell_type": "code",
   "execution_count": null,
   "metadata": {},
   "outputs": [],
   "source": [
    "#Will use Python's objects just to store variables, without defining any methods.\n",
    "#(Alternatively, storing a collection of named attributes could be done \n",
    "#without introducing classes/objects, for instance by using Python's dictionary structures.\n",
    "#Decided to use classes/objects here, in order to facilitate possible future usage of OOP, if desired.)\n",
    "\n",
    "class Contract:\n",
    "    pass"
   ]
  },
  {
   "cell_type": "code",
   "execution_count": null,
   "metadata": {},
   "outputs": [],
   "source": [
    "hw1contract=Contract()\n",
    "hw1contract.K = 95\n",
    "hw1contract.T = 0.25\n",
    "hw1contract.H = 107\n",
    "hw1contract.observationinterval = 0.02"
   ]
  },
  {
   "cell_type": "code",
   "execution_count": null,
   "metadata": {},
   "outputs": [],
   "source": [
    "class Dynamics:\n",
    "    pass"
   ]
  },
  {
   "cell_type": "code",
   "execution_count": null,
   "metadata": {},
   "outputs": [],
   "source": [
    "hw1dynamics=Dynamics()\n",
    "hw1dynamics.S0 = 100\n",
    "hw1dynamics.sigma = 0.4\n",
    "hw1dynamics.r = 0.05"
   ]
  },
  {
   "cell_type": "code",
   "execution_count": null,
   "metadata": {},
   "outputs": [],
   "source": [
    "class Tree:\n",
    "    pass"
   ]
  },
  {
   "cell_type": "code",
   "execution_count": null,
   "metadata": {},
   "outputs": [],
   "source": [
    "hw1tree=Tree()\n",
    "hw1tree.N=100"
   ]
  },
  {
   "cell_type": "code",
   "execution_count": null,
   "metadata": {},
   "outputs": [],
   "source": [
    "def barrier_trinom_pricer(dynamics, contract, tree):\n",
    "    \n",
    "    S0, sigma, r = dynamics.S0, dynamics.sigma, dynamics.r\n",
    "    K, T, H, interval  = contract.K, contract.T, contract.H, contract.observationinterval\n",
    "    N = tree.N\n",
    "\n",
    "    deltat =  #Fill this in with a scalar.\n",
    "    deltax =  #Fill this in with a scalar.\n",
    "    \n",
    "    S=S0*np.exp(np.linspace(N, -N, num=2*N+1, endpoint=True)*deltax)  \n",
    "    #Here I decided to make the SMALLER indexes in this array correspond to HIGHER S\n",
    "\n",
    "    if abs(interval/deltat-round(interval/deltat)) > 1e-12:\n",
    "        raise ValueError(\"This value of N fails to place the observation dates in the tree.\")\n",
    "\n",
    "    nu =        # complete this \n",
    "    Pu =        # complete this\n",
    "    Pd =        # complete this\n",
    "    Pm =        # complete this\n",
    "        \n",
    "    optionprice = np.maximum(K-S,0)   #an array of time-T option prices.\n",
    "        \n",
    "    #Next, induct backwards to time 0, updating the optionprice array \n",
    "    #Hint: if x is an array, then what are x[2:] and x[1:-1] and x[:-2]\n",
    "    \n",
    "    for t in np.linspace(N-1, 0, num=N, endpoint=True)*deltat:\n",
    "        # insert lines of code here if needed\n",
    "        optionprice =    #complete this\n",
    "\n",
    "    return optionprice[0]   \n",
    "    #The [0] is assuming that we are shrinking the optionprice array in each iteration of the loop,\n",
    "    #until finally there is only 1 element in the array.\n",
    "    #If instead you are keeping unchanged the size of the optionprice array in each iteration, \n",
    "    #then you need to change the [0] to a different index.\n",
    "\n"
   ]
  },
  {
   "cell_type": "code",
   "execution_count": null,
   "metadata": {},
   "outputs": [],
   "source": [
    "barrier_trinom_pricer(hw1dynamics, hw1contract, hw1tree)"
   ]
  },
  {
   "cell_type": "markdown",
   "metadata": {},
   "source": [
    "# Problem 2"
   ]
  },
  {
   "cell_type": "code",
   "execution_count": 2,
   "metadata": {},
   "outputs": [],
   "source": [
    "def BScallPrice(sigma,S,rGrow,r,K,T):\n",
    "    F=S*np.exp(rGrow*T)\n",
    "    sd = sigma*np.sqrt(T)\n",
    "    d1 = np.log(F/K)/sd+sd/2\n",
    "    d2 = d1-sd\n",
    "    return np.exp(-r*T)*(F*norm.cdf(d1)-K*norm.cdf(d2))"
   ]
  },
  {
   "cell_type": "code",
   "execution_count": 13,
   "metadata": {},
   "outputs": [
    {
     "data": {
      "text/plain": [
       "11.254670176024234"
      ]
     },
     "execution_count": 13,
     "metadata": {},
     "output_type": "execute_result"
    }
   ],
   "source": [
    "BScallPrice(0.4003,100,0,0,100,0.5)"
   ]
  },
  {
   "cell_type": "code",
   "execution_count": 10,
   "metadata": {},
   "outputs": [
    {
     "data": {
      "text/plain": [
       "12.002428410188138"
      ]
     },
     "execution_count": 10,
     "metadata": {},
     "output_type": "execute_result"
    }
   ],
   "source": [
    "BScallPrice(0.302,100,0,0,100,1)"
   ]
  },
  {
   "cell_type": "code",
   "execution_count": null,
   "metadata": {},
   "outputs": [],
   "source": [
    "def IVofCall(C,S,rGrow,r,K,T):\n",
    "    F=S*np.exp(rGrow*T)\n",
    "    lowerbound = np.max([0,(F-K)*np.exp(-r*T)])\n",
    "    if C<lowerbound:\n",
    "        return np.nan\n",
    "    if C==lowerbound:\n",
    "        return 0\n",
    "    if C>=F*np.exp(-r*T):\n",
    "        return np.nan \n",
    "    hi=0.2\n",
    "    while BScallPrice(hi,S,rGrow,r,K,T)>C:\n",
    "        hi=hi/2\n",
    "    while BScallPrice(hi,S,rGrow,r,K,T)<C:\n",
    "        hi=hi*2\n",
    "    lo=hi/2\n",
    "    # We have calculated \"lo\" and \"hi\" which bound the implied volatility from below and above. \n",
    "    # In other words, the implied volatility is somewhere in the interval [lo,hi].\n",
    "    # Then, to calculate the implied volatility within that interval, \n",
    "    # for purposes of this homework, you may either (A) write your own bisection algorithm, \n",
    "    # or (B) use scipy.optimize.bisect or (C) use scipy.optimize.brentq\n",
    "    # You will need to provide lo and hi to those solvers.\n",
    "    # There are other solvers that do not require you to bound the solution \n",
    "    # from below and above (for instance, scipy.optimize.fsolve is a useful solver).  \n",
    "    # However, if you are able to bound the solution (of a single-variable problem), \n",
    "    # then bisection or Brent will be more reliable.\n",
    "    \n",
    "    impliedVolatility =      # you fill this in, using bisect or brentq imported from scipy.optimize,\n",
    "                             # or by writing your own bisection algorithm.\n",
    "    return impliedVolatility"
   ]
  }
 ],
 "metadata": {
  "anaconda-cloud": {},
  "kernelspec": {
   "display_name": "Python 3",
   "language": "python",
   "name": "python3"
  },
  "language_info": {
   "codemirror_mode": {
    "name": "ipython",
    "version": 3
   },
   "file_extension": ".py",
   "mimetype": "text/x-python",
   "name": "python",
   "nbconvert_exporter": "python",
   "pygments_lexer": "ipython3",
   "version": "3.6.5"
  }
 },
 "nbformat": 4,
 "nbformat_minor": 2
}
