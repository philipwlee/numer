{
 "cells": [
  {
   "cell_type": "markdown",
   "metadata": {},
   "source": [
    "# Problem 1\n",
    "\n",
    "(a) Find the covariance matrix of $X_T$\n",
    "\n",
    "$$\\begin{aligned}\n",
    "    d \\log{S_t} &= \\frac{1}{S_t} dS_t + \\frac{-1}{2S_t^2} dS_t^2 \\\\\n",
    "    &= \\frac{1}{S_t} (rS_tdt + \\sigma S_t dW_t) + \\frac{-1}{2S_t^2} (\\sigma^2 S_t^2 dt) \\\\\n",
    "    &= (r-\\frac{\\sigma^2}{2})dt + \\sigma dW_t \\\\\n",
    "    \\\\\n",
    "    \\begin{bmatrix} X_t^{[1]} \\\\ X_t^{[2]} \\end{bmatrix} &= \\begin{bmatrix} \\log S_t^{[1]} + (r-\\frac{\\sigma_{[1]}^2}{2})t\\\\ \\log S_t^{[2]} + (r-\\frac{\\sigma_{[2]}^2}{2})t \\end{bmatrix} + \\begin{bmatrix} \\sigma_{[1]}^2 & 0 \\\\ 0 & \\sigma_{[2]}^2 \\end{bmatrix} \\begin{bmatrix} W_t^{[1]} \\\\ W_t^{[2]} \\end{bmatrix} \\\\\n",
    "    Cov(\\begin{bmatrix} X_t^{[1]} \\\\ X_t^{[2]} \\end{bmatrix}) &= \\mathbb{E} [\\Sigma W_T W_T^T \\Sigma^T] \\\\\n",
    "    &= \\begin{bmatrix} 0.3 & 0 \\\\ 0 & 0.2 \\end{bmatrix} \\begin{bmatrix} 1T & 0.8T \\\\ 0.8T & 1T \\end{bmatrix} \\begin{bmatrix} 0.3 & 0 \\\\ 0 & 0.2 \\end{bmatrix} \\\\\n",
    "    &= \\begin{bmatrix} 0.09T & 0.048T \\\\ 0.048T & 0.04T \\end{bmatrix}\n",
    "\\end{aligned}$$"
   ]
  },
  {
   "cell_type": "code",
   "execution_count": 1,
   "metadata": {
    "execution": {
     "iopub.execute_input": "2022-03-05T05:38:38.593389Z",
     "iopub.status.busy": "2022-03-05T05:38:38.593001Z",
     "iopub.status.idle": "2022-03-05T05:38:39.364836Z",
     "shell.execute_reply": "2022-03-05T05:38:39.364141Z",
     "shell.execute_reply.started": "2022-03-05T05:38:38.593262Z"
    },
    "tags": []
   },
   "outputs": [],
   "source": [
    "import numpy as np\n",
    "from scipy.stats import norm"
   ]
  },
  {
   "cell_type": "code",
   "execution_count": 2,
   "metadata": {
    "execution": {
     "iopub.execute_input": "2022-03-05T05:38:39.365988Z",
     "iopub.status.busy": "2022-03-05T05:38:39.365613Z",
     "iopub.status.idle": "2022-03-05T05:38:39.372179Z",
     "shell.execute_reply": "2022-03-05T05:38:39.371421Z",
     "shell.execute_reply.started": "2022-03-05T05:38:39.365963Z"
    },
    "tags": []
   },
   "outputs": [],
   "source": [
    "class Dynamics:\n",
    "    pass"
   ]
  },
  {
   "cell_type": "code",
   "execution_count": 3,
   "metadata": {
    "execution": {
     "iopub.execute_input": "2022-03-05T05:38:39.374097Z",
     "iopub.status.busy": "2022-03-05T05:38:39.373515Z",
     "iopub.status.idle": "2022-03-05T05:38:39.383993Z",
     "shell.execute_reply": "2022-03-05T05:38:39.383200Z",
     "shell.execute_reply.started": "2022-03-05T05:38:39.374065Z"
    },
    "tags": []
   },
   "outputs": [],
   "source": [
    "hw6p1dynamics=Dynamics()\n",
    "hw6p1dynamics.S0 = np.array([100,110])\n",
    "hw6p1dynamics.r = 0.05\n",
    "hw6p1dynamics.correlations = np.array([[1, 0.8], [0.8, 1]])  #You fill this in with a 2x2 correlation matrix\n",
    "hw6p1dynamics.sigma = np.diag([0.3, 0.2])"
   ]
  },
  {
   "cell_type": "code",
   "execution_count": 4,
   "metadata": {
    "execution": {
     "iopub.execute_input": "2022-03-05T05:38:39.392298Z",
     "iopub.status.busy": "2022-03-05T05:38:39.391979Z",
     "iopub.status.idle": "2022-03-05T05:38:39.405825Z",
     "shell.execute_reply": "2022-03-05T05:38:39.404915Z",
     "shell.execute_reply.started": "2022-03-05T05:38:39.392269Z"
    },
    "tags": []
   },
   "outputs": [],
   "source": [
    "class Contract:\n",
    "    pass"
   ]
  },
  {
   "cell_type": "code",
   "execution_count": 5,
   "metadata": {
    "execution": {
     "iopub.execute_input": "2022-03-05T05:38:39.411729Z",
     "iopub.status.busy": "2022-03-05T05:38:39.409373Z",
     "iopub.status.idle": "2022-03-05T05:38:39.420412Z",
     "shell.execute_reply": "2022-03-05T05:38:39.419382Z",
     "shell.execute_reply.started": "2022-03-05T05:38:39.411688Z"
    },
    "tags": []
   },
   "outputs": [],
   "source": [
    "hw6p1contract=Contract() \n",
    "hw6p1contract.K = 110 \n",
    "hw6p1contract.T = 1.0 \n",
    "hw6p1contract.weights = np.array([1/2, 1/2])"
   ]
  },
  {
   "cell_type": "code",
   "execution_count": 6,
   "metadata": {
    "execution": {
     "iopub.execute_input": "2022-03-05T05:38:39.422249Z",
     "iopub.status.busy": "2022-03-05T05:38:39.421476Z",
     "iopub.status.idle": "2022-03-05T05:38:39.428750Z",
     "shell.execute_reply": "2022-03-05T05:38:39.427880Z",
     "shell.execute_reply.started": "2022-03-05T05:38:39.422215Z"
    },
    "tags": []
   },
   "outputs": [],
   "source": [
    "class MC:\n",
    "    pass"
   ]
  },
  {
   "cell_type": "code",
   "execution_count": 7,
   "metadata": {
    "execution": {
     "iopub.execute_input": "2022-03-05T05:38:39.430293Z",
     "iopub.status.busy": "2022-03-05T05:38:39.429767Z",
     "iopub.status.idle": "2022-03-05T05:38:39.437221Z",
     "shell.execute_reply": "2022-03-05T05:38:39.436310Z",
     "shell.execute_reply.started": "2022-03-05T05:38:39.430220Z"
    },
    "tags": []
   },
   "outputs": [],
   "source": [
    "hw6p1MC=MC()\n",
    "hw6p1MC.M = 10000  # Number of paths.  \n",
    "hw6p1MC.seed = 0  # Seeding the random number generator with a specified number helps make the calculations reproducible"
   ]
  },
  {
   "cell_type": "code",
   "execution_count": 8,
   "metadata": {
    "execution": {
     "iopub.execute_input": "2022-03-05T05:38:39.438837Z",
     "iopub.status.busy": "2022-03-05T05:38:39.438214Z",
     "iopub.status.idle": "2022-03-05T05:38:39.443955Z",
     "shell.execute_reply": "2022-03-05T05:38:39.443221Z",
     "shell.execute_reply.started": "2022-03-05T05:38:39.438787Z"
    },
    "tags": []
   },
   "outputs": [],
   "source": [
    "M, S0 = hw6p1MC.M, hw6p1dynamics.S0\n",
    "H = hw6p1dynamics.correlations"
   ]
  },
  {
   "cell_type": "code",
   "execution_count": 9,
   "metadata": {
    "execution": {
     "iopub.execute_input": "2022-03-05T05:38:39.445665Z",
     "iopub.status.busy": "2022-03-05T05:38:39.445305Z",
     "iopub.status.idle": "2022-03-05T05:38:39.463686Z",
     "shell.execute_reply": "2022-03-05T05:38:39.462953Z",
     "shell.execute_reply.started": "2022-03-05T05:38:39.445635Z"
    },
    "tags": []
   },
   "outputs": [
    {
     "data": {
      "text/plain": [
       "(20000, 2)"
      ]
     },
     "execution_count": 9,
     "metadata": {},
     "output_type": "execute_result"
    }
   ],
   "source": [
    "np.append(np.random.randn(M, len(S0)), np.random.randn(M, len(S0)), axis=0).shape"
   ]
  },
  {
   "cell_type": "code",
   "execution_count": 10,
   "metadata": {
    "execution": {
     "iopub.execute_input": "2022-03-05T05:38:39.465903Z",
     "iopub.status.busy": "2022-03-05T05:38:39.465308Z",
     "iopub.status.idle": "2022-03-05T05:38:39.479567Z",
     "shell.execute_reply": "2022-03-05T05:38:39.478435Z",
     "shell.execute_reply.started": "2022-03-05T05:38:39.465869Z"
    },
    "tags": []
   },
   "outputs": [
    {
     "data": {
      "text/plain": [
       "array([105., 105., 105., ..., 105., 105., 105.])"
      ]
     },
     "execution_count": 10,
     "metadata": {},
     "output_type": "execute_result"
    }
   ],
   "source": [
    "np.array([0.5, 0.5]).dot((np.ones((M, len(S0))) * S0).T)"
   ]
  },
  {
   "cell_type": "code",
   "execution_count": 11,
   "metadata": {
    "execution": {
     "iopub.execute_input": "2022-03-05T05:38:39.481245Z",
     "iopub.status.busy": "2022-03-05T05:38:39.480750Z",
     "iopub.status.idle": "2022-03-05T05:38:39.504657Z",
     "shell.execute_reply": "2022-03-05T05:38:39.503636Z",
     "shell.execute_reply.started": "2022-03-05T05:38:39.481198Z"
    },
    "tags": []
   },
   "outputs": [],
   "source": [
    "def pricer_callonbasket_GBM_MC(contract,dynamics,MC):\n",
    "\n",
    "    np.random.seed(MC.seed)  #seed the random number generator\n",
    "    K, T, weights = contract.K, contract.T, contract.weights\n",
    "    S0, r, corr, sigma = dynamics.S0, dynamics.r, dynamics.correlations, dynamics.sigma\n",
    "    M, antithetic, control = MC.M, MC.antithetic, MC.control\n",
    "    \n",
    "    if antithetic and control:\n",
    "        raise ValueError(\"At most one of antithetic and control may be True.\")\n",
    "    \n",
    "    # You complete the coding of this function\n",
    "    # You are not required to support the case where MC.control = MC.antithetic = True\n",
    "    # (simultaneous use of control variate and antithetic)\n",
    "    # But you are required to support the other 3 possible settings of MC.antithetic/MC.control \n",
    "    # namely False/False, True/False, False/True.\n",
    "    # (ordinary MC, antithetic without control, control without antithetic)\n",
    "    def BScallPrice(sigma,S,rGrow,r,K,T):\n",
    "        F=S*np.exp(rGrow*T)\n",
    "        sd = sigma*np.sqrt(T)\n",
    "        d1 = np.log(F/K)/sd+sd/2\n",
    "        d2 = d1-sd\n",
    "        return np.exp(-r*T)*(F*norm.cdf(d1)-K*norm.cdf(d2))\n",
    "    \n",
    "    DEBUG=False\n",
    "    \n",
    "    L = np.linalg.cholesky(corr)\n",
    "    X_0 = np.ones((M, len(S0)))\n",
    "    X_0 = X_0 * np.log(S0)\n",
    "    X_0 = X_0.T\n",
    "    sigma_mat = (np.ones((M, len(S0))) * np.diag(sigma)).T\n",
    "    \n",
    "    if DEBUG: print(sigma_mat**2/2)\n",
    "    \n",
    "    dW_T = np.random.randn(len(S0), M) * np.sqrt(T)\n",
    "    X_T = X_0 + (r-sigma_mat**2/2)*T + sigma.dot(L.dot(dW_T))\n",
    "    \n",
    "    if DEBUG: print(X_0, '\\n', X_T)\n",
    "    \n",
    "    S_T = np.exp(X_T)\n",
    "    H_T = weights.dot(S_T)\n",
    "    C_T = np.exp(-r*T) * np.maximum(H_T-K, 0)\n",
    "    \n",
    "    if antithetic:\n",
    "        X_Tneg = X_0 + (r-sigma_mat**2/2)*T - sigma.dot(L.dot(dW_T))\n",
    "        S_Tneg = np.exp(X_Tneg)\n",
    "        H_Tneg = weights.dot(S_Tneg)\n",
    "        C_Tneg = np.exp(-r*T) * np.maximum(H_Tneg-K, 0)\n",
    "        C_T = (C_T + C_Tneg) / 2\n",
    "    \n",
    "    if DEBUG: print(S_T, '\\n', H_T)\n",
    "    \n",
    "    call_price = np.mean(C_T)\n",
    "    standard_error = np.std(C_T, ddof=1) / np.sqrt(M)\n",
    "    \n",
    "    if control:\n",
    "        sig = np.sqrt(sigma[0,0]**2 + sigma[1,1]**2 + 2*sigma[0,0]*sigma[1,1]*corr[0,1])/2\n",
    "        S = (S0[0]*S0[1])**0.5\n",
    "        rGrow = r + (2*sigma[0,0]*sigma[1,1]*corr[0,1] - sigma[0,0]**2 - sigma[1,1]**2)/8\n",
    "        \n",
    "        C_BS = BScallPrice(sig,S,rGrow,r,K,T)\n",
    "        if DEBUG: print(sig, S, rGrow, C_BS)\n",
    "        \n",
    "        if DEBUG: print(X_T, '\\n', np.mean(X_T, axis=0))\n",
    "        G_Tcon = np.exp(np.mean(X_T, axis=0))\n",
    "        C_Tcon = np.exp(-r*T) * np.maximum(G_Tcon-K, 0)\n",
    "        \n",
    "        cov = np.cov(C_T, C_Tcon)\n",
    "        beta = cov[0,1] / cov[1,1]\n",
    "        Y_con = C_T + beta*(C_BS - C_Tcon)\n",
    "        call_price = np.mean(Y_con)\n",
    "        standard_error = np.std(Y_con, ddof=1) / np.sqrt(M)\n",
    "    \n",
    "    return(call_price, standard_error)\n",
    "        "
   ]
  },
  {
   "cell_type": "code",
   "execution_count": 12,
   "metadata": {
    "execution": {
     "iopub.execute_input": "2022-03-05T05:38:39.507351Z",
     "iopub.status.busy": "2022-03-05T05:38:39.506714Z",
     "iopub.status.idle": "2022-03-05T05:38:39.517631Z",
     "shell.execute_reply": "2022-03-05T05:38:39.516607Z",
     "shell.execute_reply.started": "2022-03-05T05:38:39.507318Z"
    },
    "tags": []
   },
   "outputs": [
    {
     "name": "stdout",
     "output_type": "stream",
     "text": [
      "9.64432733712375 0.16404896020445345\n"
     ]
    }
   ],
   "source": [
    "hw6p1MC.antithetic = False  \n",
    "hw6p1MC.control = False \n",
    "(call_price_ordinary, std_err_ordinary) = pricer_callonbasket_GBM_MC(hw6p1contract,hw6p1dynamics,hw6p1MC)\n",
    "print(call_price_ordinary, std_err_ordinary)"
   ]
  },
  {
   "cell_type": "code",
   "execution_count": 13,
   "metadata": {
    "execution": {
     "iopub.execute_input": "2022-03-05T05:38:39.523543Z",
     "iopub.status.busy": "2022-03-05T05:38:39.523285Z",
     "iopub.status.idle": "2022-03-05T05:38:39.531807Z",
     "shell.execute_reply": "2022-03-05T05:38:39.531004Z",
     "shell.execute_reply.started": "2022-03-05T05:38:39.523518Z"
    },
    "tags": []
   },
   "outputs": [
    {
     "name": "stdout",
     "output_type": "stream",
     "text": [
      "9.8252633692739 0.09350558499335318\n"
     ]
    }
   ],
   "source": [
    "hw6p1MC.antithetic = True  \n",
    "hw6p1MC.control = False \n",
    "(call_price_AV, std_err_AV) = pricer_callonbasket_GBM_MC(hw6p1contract,hw6p1dynamics,hw6p1MC)\n",
    "print(call_price_AV, std_err_AV)"
   ]
  },
  {
   "cell_type": "markdown",
   "metadata": {},
   "source": [
    "(d)\n",
    "\n",
    "$$\\begin{aligned}\n",
    "    \\log G_t &= \\frac{1}{2} \\bigg(\\log S_0^{[1]} + (r-\\frac{\\sigma_{[1]}^2}{2})t + \\sigma_{[1]} W_t^{[1]} + \\log S_0^{[2]} + (r-\\frac{\\sigma_{[2]}^2}{2})t + \\sigma_{[2]} W_t^{[2]} \\bigg) \\\\\n",
    "    &= \\frac{1}{2} \\bigg(\\log \\big(S_0^{[1]}  S_0^{[2]} \\big) + \\big(2 * r-\\frac{\\sigma_{[1]}^2 + \\sigma_{[2]}^2}{2} \\big)t + \\sigma_{[1]} W_t^{[1]} + \\sigma_{[2]} W_t^{[2]} \\bigg) \\\\\n",
    "    \\mathbb{E} \\big[ \\log G_t \\big] &= \\frac{1}{2} \\bigg(\\log \\big(S_0^{[1]}  S_0^{[2]} \\big) + \\big(2 * r-\\frac{\\sigma_{[1]}^2 + \\sigma_{[2]}^2}{2} \\big)t \\bigg) \\\\\n",
    "    Var \\big[ \\log G_t \\big] &= Var \\bigg[ \\frac{1}{2} \\big(\\log S_t^{[1]} + \\log S_t^{[2]} \\big) \\bigg] \\\\\n",
    "    &= \\frac{1}{4} Var \\bigg[ \\log S_t^{[1]} + \\log S_t^{[2]} \\bigg] \\\\\n",
    "    &= \\frac{1}{4} \\bigg( Var \\big[ \\log S_t^{[1]} \\big] + Var \\big[ \\log S_t^{[2]} \\big] + 2Cov \\big[ S_t^{[1]}, S_t^{[2]} \\big] \\bigg) \\\\\n",
    "    &= \\frac{1}{4} \\bigg( \\sigma_{[1]}^2 + \\sigma_{[2]}^2 + 2 \\sigma_{[1]} \\sigma_{[2]} \\rho_{[1],[2]} \\bigg) t \\\\\n",
    "\\end{aligned}$$"
   ]
  },
  {
   "cell_type": "markdown",
   "metadata": {},
   "source": [
    "(e)\n",
    "\n",
    "$$\\begin{aligned}\n",
    "    C^G =C^{BS}((S_0^{[1]}S_0^{[2]})^{\\frac{1}{2}},0,K,T,r + \\frac{ 2 \\sigma_{[1]} \\sigma_{[2]} \\rho_{[1],[2]} - \\sigma_{[1]}^2 - \\sigma_{[2]}^2}{8},r,\\frac{\\sqrt{\\sigma_{[1]}^2 + \\sigma_{[2]}^2 + 2 \\sigma_{[1]} \\sigma_{[2]} \\rho_{[1],[2]}}}{2} )\n",
    "\\end{aligned}$$"
   ]
  },
  {
   "cell_type": "code",
   "execution_count": 14,
   "metadata": {
    "execution": {
     "iopub.execute_input": "2022-03-05T05:38:39.533761Z",
     "iopub.status.busy": "2022-03-05T05:38:39.533484Z",
     "iopub.status.idle": "2022-03-05T05:38:39.542268Z",
     "shell.execute_reply": "2022-03-05T05:38:39.541199Z",
     "shell.execute_reply.started": "2022-03-05T05:38:39.533730Z"
    },
    "tags": []
   },
   "outputs": [
    {
     "name": "stdout",
     "output_type": "stream",
     "text": [
      "9.995159317013883 0.004409052033213148\n"
     ]
    }
   ],
   "source": [
    "hw6p1MC.antithetic = False\n",
    "hw6p1MC.control = True \n",
    "(call_price_CV, std_err_CV) = pricer_callonbasket_GBM_MC(hw6p1contract,hw6p1dynamics,hw6p1MC)\n",
    "print(call_price_CV, std_err_CV)"
   ]
  },
  {
   "cell_type": "markdown",
   "metadata": {},
   "source": [
    "## Problem 2"
   ]
  },
  {
   "cell_type": "code",
   "execution_count": 15,
   "metadata": {
    "execution": {
     "iopub.execute_input": "2022-03-05T05:38:39.544327Z",
     "iopub.status.busy": "2022-03-05T05:38:39.543646Z",
     "iopub.status.idle": "2022-03-05T05:38:39.548105Z",
     "shell.execute_reply": "2022-03-05T05:38:39.547210Z",
     "shell.execute_reply.started": "2022-03-05T05:38:39.544304Z"
    },
    "tags": []
   },
   "outputs": [],
   "source": [
    "hw6p2dynamics=Dynamics()\n",
    "hw6p2dynamics.sigma = 0.2\n",
    "hw6p2dynamics.S0 = 100\n",
    "hw6p2dynamics.r = 0.02"
   ]
  },
  {
   "cell_type": "code",
   "execution_count": 16,
   "metadata": {
    "execution": {
     "iopub.execute_input": "2022-03-05T05:38:39.549419Z",
     "iopub.status.busy": "2022-03-05T05:38:39.549062Z",
     "iopub.status.idle": "2022-03-05T05:38:39.553243Z",
     "shell.execute_reply": "2022-03-05T05:38:39.552416Z",
     "shell.execute_reply.started": "2022-03-05T05:38:39.549388Z"
    },
    "tags": []
   },
   "outputs": [],
   "source": [
    "hw6p2contract=Contract()\n",
    "hw6p2contract.K = 150\n",
    "hw6p2contract.T = 1"
   ]
  },
  {
   "cell_type": "code",
   "execution_count": 17,
   "metadata": {
    "execution": {
     "iopub.execute_input": "2022-03-05T05:38:39.554925Z",
     "iopub.status.busy": "2022-03-05T05:38:39.554598Z",
     "iopub.status.idle": "2022-03-05T05:38:39.559267Z",
     "shell.execute_reply": "2022-03-05T05:38:39.558489Z",
     "shell.execute_reply.started": "2022-03-05T05:38:39.554894Z"
    },
    "tags": []
   },
   "outputs": [],
   "source": [
    "hw6p2MC=MC()\n",
    "hw6p2MC.M = 100000  # Number of paths\n",
    "hw6p2MC.seed = 0  # Seeding the random number generator with a specified number helps make the calculations reproducible"
   ]
  },
  {
   "cell_type": "code",
   "execution_count": 18,
   "metadata": {
    "execution": {
     "iopub.execute_input": "2022-03-05T05:38:39.560906Z",
     "iopub.status.busy": "2022-03-05T05:38:39.560367Z",
     "iopub.status.idle": "2022-03-05T05:38:39.568264Z",
     "shell.execute_reply": "2022-03-05T05:38:39.567325Z",
     "shell.execute_reply.started": "2022-03-05T05:38:39.560856Z"
    },
    "tags": []
   },
   "outputs": [],
   "source": [
    "def pricer_call_GBM_MCwithdriftchange(contract,dynamics,MC):\n",
    "\n",
    "    np.random.seed(MC.seed)  #seed the random number generator\n",
    "    K, T = contract.K, contract.T\n",
    "    S0, r, sigma = dynamics.S0, dynamics.r, dynamics.sigma\n",
    "    M, lamb = MC.M, MC.lamb\n",
    "    \n",
    "    # You complete the coding of this function\n",
    "    \n",
    "    W_1 = np.random.randn(M)\n",
    "    X_T = np.log(S0) + (r-sigma**2/2)*T + sigma*np.sqrt(T)*(W_1 + lamb*T)\n",
    "    S_T = np.exp(X_T)\n",
    "    Y_T = np.exp(-r*T - lamb*W_1*np.sqrt(T) - 0.5*T*lamb**2) * np.maximum(S_T-K, 0)\n",
    "    \n",
    "    call_price = np.mean(Y_T)\n",
    "    standard_error = np.std(Y_T, ddof=1) / np.sqrt(M)\n",
    "        \n",
    "    return(call_price, standard_error)\n",
    "        "
   ]
  },
  {
   "cell_type": "code",
   "execution_count": 19,
   "metadata": {
    "execution": {
     "iopub.execute_input": "2022-03-05T05:38:39.570057Z",
     "iopub.status.busy": "2022-03-05T05:38:39.569771Z",
     "iopub.status.idle": "2022-03-05T05:38:39.585174Z",
     "shell.execute_reply": "2022-03-05T05:38:39.583975Z",
     "shell.execute_reply.started": "2022-03-05T05:38:39.570028Z"
    },
    "tags": []
   },
   "outputs": [
    {
     "name": "stdout",
     "output_type": "stream",
     "text": [
      "0.24852756686116406 0.007435856213152823\n"
     ]
    }
   ],
   "source": [
    "hw6p2MC.lamb = 0  # Zero drift adjustment gives ordinary MC\n",
    "(call_price_ordinary, std_err_ordinary) =  pricer_call_GBM_MCwithdriftchange(hw6p2contract,hw6p2dynamics,hw6p2MC)\n",
    "print(call_price_ordinary, std_err_ordinary)"
   ]
  },
  {
   "cell_type": "markdown",
   "metadata": {},
   "source": [
    "(b)\n",
    "\n",
    "$$\\begin{aligned}\n",
    "    d\\tilde{W}_t &= dW_t^* + \\lambda dt \\\\\n",
    "    dS_t &= r S_t dt + \\sigma S_t (dW_t^* + \\lambda t) \\\\\n",
    "    &= (r+\\sigma \\lambda)S_t dt + \\sigma S_t dW_t^* \\\\\n",
    "    d \\log S_t &= (r+\\sigma \\lambda - \\frac{\\sigma^2}{2})dt + \\sigma dW_t^* \\\\\n",
    "    \\mathbb{E}^* [S_t] &= S_0 e^{(r+\\sigma \\lambda)t} \\\\\n",
    "    \\lambda &= \\frac{\\log (\\frac{\\mathbb{E}^* [S_t]}{S_0}) / t - r}{\\sigma}\n",
    "\\end{aligned}$$"
   ]
  },
  {
   "cell_type": "code",
   "execution_count": 20,
   "metadata": {
    "execution": {
     "iopub.execute_input": "2022-03-05T05:38:39.586880Z",
     "iopub.status.busy": "2022-03-05T05:38:39.586514Z",
     "iopub.status.idle": "2022-03-05T05:38:39.599781Z",
     "shell.execute_reply": "2022-03-05T05:38:39.598983Z",
     "shell.execute_reply.started": "2022-03-05T05:38:39.586849Z"
    },
    "tags": []
   },
   "outputs": [
    {
     "name": "stdout",
     "output_type": "stream",
     "text": [
      "0.249898640517768 0.0007761286383869399\n"
     ]
    }
   ],
   "source": [
    "ES_T = 165\n",
    "S_0 = hw6p2dynamics.S0\n",
    "r = hw6p2dynamics.r\n",
    "sigma = hw6p2dynamics.sigma\n",
    "T = hw6p2contract.T\n",
    "\n",
    "hw6p2MC.lamb = (np.log(ES_T/S_0)/T - r) / sigma  # Fill this in with the lambda that you compute in (b) \n",
    "(call_price_importsamp, std_err_importsamp) =  pricer_call_GBM_MCwithdriftchange(hw6p2contract,hw6p2dynamics,hw6p2MC)\n",
    "print(call_price_importsamp, std_err_importsamp)"
   ]
  },
  {
   "cell_type": "code",
   "execution_count": null,
   "metadata": {},
   "outputs": [],
   "source": []
  }
 ],
 "metadata": {
  "anaconda-cloud": {},
  "kernelspec": {
   "display_name": "Python 3 (ipykernel)",
   "language": "python",
   "name": "python3"
  },
  "language_info": {
   "codemirror_mode": {
    "name": "ipython",
    "version": 3
   },
   "file_extension": ".py",
   "mimetype": "text/x-python",
   "name": "python",
   "nbconvert_exporter": "python",
   "pygments_lexer": "ipython3",
   "version": "3.9.10"
  }
 },
 "nbformat": 4,
 "nbformat_minor": 4
}
