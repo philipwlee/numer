{
 "cells": [
  {
   "cell_type": "code",
   "execution_count": 1,
   "metadata": {
    "execution": {
     "iopub.execute_input": "2022-03-17T02:32:16.195022Z",
     "iopub.status.busy": "2022-03-17T02:32:16.194735Z",
     "iopub.status.idle": "2022-03-17T02:32:17.369867Z",
     "shell.execute_reply": "2022-03-17T02:32:17.369061Z",
     "shell.execute_reply.started": "2022-03-17T02:32:16.194947Z"
    },
    "tags": []
   },
   "outputs": [],
   "source": [
    "import numpy as np\n",
    "from scipy.stats import norm\n",
    "from scipy.optimize import bisect, brentq\n",
    "import matplotlib.pyplot as plt\n",
    "plt.rcParams[\"figure.figsize\"] = (16,10)"
   ]
  },
  {
   "cell_type": "code",
   "execution_count": 2,
   "metadata": {
    "execution": {
     "iopub.execute_input": "2022-03-17T02:32:17.371381Z",
     "iopub.status.busy": "2022-03-17T02:32:17.371131Z",
     "iopub.status.idle": "2022-03-17T02:32:17.378084Z",
     "shell.execute_reply": "2022-03-17T02:32:17.377057Z",
     "shell.execute_reply.started": "2022-03-17T02:32:17.371360Z"
    },
    "tags": []
   },
   "outputs": [],
   "source": [
    "class Dynamics:\n",
    "    pass"
   ]
  },
  {
   "cell_type": "code",
   "execution_count": 3,
   "metadata": {
    "execution": {
     "iopub.execute_input": "2022-03-17T02:32:17.379828Z",
     "iopub.status.busy": "2022-03-17T02:32:17.379370Z",
     "iopub.status.idle": "2022-03-17T02:32:17.385758Z",
     "shell.execute_reply": "2022-03-17T02:32:17.384750Z",
     "shell.execute_reply.started": "2022-03-17T02:32:17.379799Z"
    },
    "tags": []
   },
   "outputs": [],
   "source": [
    "class Contract:\n",
    "    pass"
   ]
  },
  {
   "cell_type": "code",
   "execution_count": 4,
   "metadata": {
    "execution": {
     "iopub.execute_input": "2022-03-17T02:32:17.391887Z",
     "iopub.status.busy": "2022-03-17T02:32:17.391249Z",
     "iopub.status.idle": "2022-03-17T02:32:17.395880Z",
     "shell.execute_reply": "2022-03-17T02:32:17.395123Z",
     "shell.execute_reply.started": "2022-03-17T02:32:17.391855Z"
    },
    "tags": []
   },
   "outputs": [],
   "source": [
    "class MC:\n",
    "    pass"
   ]
  },
  {
   "cell_type": "markdown",
   "metadata": {},
   "source": [
    "## Problem 1"
   ]
  },
  {
   "cell_type": "code",
   "execution_count": 5,
   "metadata": {
    "execution": {
     "iopub.execute_input": "2022-03-17T02:32:17.398090Z",
     "iopub.status.busy": "2022-03-17T02:32:17.397357Z",
     "iopub.status.idle": "2022-03-17T02:32:17.404842Z",
     "shell.execute_reply": "2022-03-17T02:32:17.403845Z",
     "shell.execute_reply.started": "2022-03-17T02:32:17.398054Z"
    },
    "tags": []
   },
   "outputs": [],
   "source": [
    "# your solution should allow for minor perturbations of the parameters, \n",
    "# but you may assume that r>0 and that S0=K \n",
    "\n",
    "p1dynamics=Dynamics()\n",
    "p1dynamics.S0 = 88\n",
    "p1dynamics.r = 0.03"
   ]
  },
  {
   "cell_type": "code",
   "execution_count": 6,
   "metadata": {
    "execution": {
     "iopub.execute_input": "2022-03-17T02:32:17.406947Z",
     "iopub.status.busy": "2022-03-17T02:32:17.406260Z",
     "iopub.status.idle": "2022-03-17T02:32:17.412546Z",
     "shell.execute_reply": "2022-03-17T02:32:17.411671Z",
     "shell.execute_reply.started": "2022-03-17T02:32:17.406916Z"
    },
    "tags": []
   },
   "outputs": [],
   "source": [
    "p1contract=Contract() \n",
    "p1contract.K = 88 \n",
    "p1contract.T = 1.0 \n",
    "\n",
    "p1contract.observedPrice = 0.5  \n",
    "#this assumes that the contract pays $1 (or nothing).  \n",
    "#If instead you assume it pays $20 million, then this observed price needs to be changed to $10 million."
   ]
  },
  {
   "cell_type": "code",
   "execution_count": 7,
   "metadata": {
    "execution": {
     "iopub.execute_input": "2022-03-17T02:32:17.414277Z",
     "iopub.status.busy": "2022-03-17T02:32:17.413852Z",
     "iopub.status.idle": "2022-03-17T02:32:17.423629Z",
     "shell.execute_reply": "2022-03-17T02:32:17.422016Z",
     "shell.execute_reply.started": "2022-03-17T02:32:17.414246Z"
    },
    "tags": []
   },
   "outputs": [],
   "source": [
    "def BScallPrice(sigma,S,rGrow,r,K,T):\n",
    "    F=S*np.exp(rGrow*T)\n",
    "    sd = sigma*np.sqrt(T)\n",
    "    d1 = np.log(F/K)/sd+sd/2\n",
    "    d2 = d1-sd\n",
    "    return np.exp(-r*T)*(F*norm.cdf(d1)-K*norm.cdf(d2))\n",
    "\n",
    "def BSputPrice(sigma,S,rGrow,r,K,T):\n",
    "    F=S*np.exp(rGrow*T)\n",
    "    sd = sigma*np.sqrt(T)\n",
    "    d1 = np.log(F/K)/sd+sd/2\n",
    "    d2 = d1-sd\n",
    "    return np.exp(-r*T)*K*norm.cdf(-d2)-F*norm.cdf(-d1)"
   ]
  },
  {
   "cell_type": "code",
   "execution_count": 8,
   "metadata": {
    "execution": {
     "iopub.execute_input": "2022-03-17T02:32:17.425741Z",
     "iopub.status.busy": "2022-03-17T02:32:17.425225Z",
     "iopub.status.idle": "2022-03-17T02:32:17.435369Z",
     "shell.execute_reply": "2022-03-17T02:32:17.434397Z",
     "shell.execute_reply.started": "2022-03-17T02:32:17.425707Z"
    },
    "tags": []
   },
   "outputs": [],
   "source": [
    "def BS_binary_call(sigma,S,rGrow,r,K,T):\n",
    "    F=S*np.exp(rGrow*T)\n",
    "    sd = sigma*np.sqrt(T)\n",
    "    d1 = np.log(F/K)/sd+sd/2\n",
    "    d2 = d1-sd\n",
    "    return np.exp(-r*T)*norm.cdf(d2)\n",
    "\n",
    "def BS_binary_put(sigma,S,rGrow,r,K,T):\n",
    "    F=S*np.exp(rGrow*T)\n",
    "    sd = sigma*np.sqrt(T)\n",
    "    d1 = np.log(F/K)/sd+sd/2\n",
    "    d2 = d1-sd\n",
    "    return np.exp(-r*T)*norm.cdf(-d2)"
   ]
  },
  {
   "cell_type": "code",
   "execution_count": 9,
   "metadata": {
    "execution": {
     "iopub.execute_input": "2022-03-17T02:32:17.438104Z",
     "iopub.status.busy": "2022-03-17T02:32:17.437702Z",
     "iopub.status.idle": "2022-03-17T02:32:17.450688Z",
     "shell.execute_reply": "2022-03-17T02:32:17.449569Z",
     "shell.execute_reply.started": "2022-03-17T02:32:17.438072Z"
    },
    "tags": []
   },
   "outputs": [],
   "source": [
    "def impliedVolOfBet(contract,dynamics):\n",
    "\n",
    "    if contract.K != dynamics.S0:\n",
    "        raise ValueError('Please assume the ATM case')\n",
    "        \n",
    "    if dynamics.r <= 0: \n",
    "        raise ValueError('Please assume r>0')\n",
    "        \n",
    "    # fill this in.  You may use a root-finder, but if you see a way to code this without using a root-finder, \n",
    "    # then you are not required to use a root-finder.\n",
    "    \n",
    "    # ----------\n",
    "    S,rGrow,r,K,T = dynamics.S0, 0, dynamics.r, contract.K, contract.T\n",
    "    C = contract.observedPrice\n",
    "    hi=0.01\n",
    "    while BS_binary_put(hi,S,rGrow,r,K,T)>C:\n",
    "        hi=hi/2\n",
    "    while BS_binary_put(hi,S,rGrow,r,K,T)<C:\n",
    "        hi=hi*2\n",
    "    lo=hi/2\n",
    "    \n",
    "    def optim(sigma):\n",
    "        return BS_binary_put(sigma,S,rGrow,r,K,T)-C\n",
    "    \n",
    "    impliedVol = bisect(optim, lo, hi)\n",
    "    # ----------\n",
    "    \n",
    "    return impliedVol    "
   ]
  },
  {
   "cell_type": "code",
   "execution_count": 10,
   "metadata": {
    "execution": {
     "iopub.execute_input": "2022-03-17T02:32:17.453510Z",
     "iopub.status.busy": "2022-03-17T02:32:17.452963Z",
     "iopub.status.idle": "2022-03-17T02:32:17.476226Z",
     "shell.execute_reply": "2022-03-17T02:32:17.474932Z",
     "shell.execute_reply.started": "2022-03-17T02:32:17.453475Z"
    },
    "tags": []
   },
   "outputs": [
    {
     "name": "stdout",
     "output_type": "stream",
     "text": [
      "0.07635674128890968\n"
     ]
    }
   ],
   "source": [
    "impliedVol = impliedVolOfBet(p1contract,p1dynamics)\n",
    "print(impliedVol)"
   ]
  },
  {
   "cell_type": "code",
   "execution_count": 11,
   "metadata": {
    "execution": {
     "iopub.execute_input": "2022-03-17T02:32:17.478044Z",
     "iopub.status.busy": "2022-03-17T02:32:17.477597Z",
     "iopub.status.idle": "2022-03-17T02:32:17.490389Z",
     "shell.execute_reply": "2022-03-17T02:32:17.486883Z",
     "shell.execute_reply.started": "2022-03-17T02:32:17.478010Z"
    },
    "tags": []
   },
   "outputs": [
    {
     "name": "stdout",
     "output_type": "stream",
     "text": [
      "0.19343485146983141\n"
     ]
    }
   ],
   "source": [
    "dsigma = 1e-9\n",
    "sigma_d = impliedVol-dsigma\n",
    "sigma_u = impliedVol+dsigma\n",
    "S = p1dynamics.S0\n",
    "rGrow = 0\n",
    "r = p1dynamics.r\n",
    "K = p1contract.K\n",
    "T = p1contract.T\n",
    "\n",
    "bp_d = BS_binary_put(sigma_d,S,rGrow,r,K,T)\n",
    "bp_u = BS_binary_put(sigma_u,S,rGrow,r,K,T)\n",
    "\n",
    "vega = (bp_u-bp_d) / (2*dsigma)\n",
    "print(vega)"
   ]
  },
  {
   "cell_type": "code",
   "execution_count": 12,
   "metadata": {
    "execution": {
     "iopub.execute_input": "2022-03-17T02:32:17.492269Z",
     "iopub.status.busy": "2022-03-17T02:32:17.491839Z",
     "iopub.status.idle": "2022-03-17T02:32:17.503822Z",
     "shell.execute_reply": "2022-03-17T02:32:17.502289Z",
     "shell.execute_reply.started": "2022-03-17T02:32:17.492238Z"
    },
    "tags": []
   },
   "outputs": [
    {
     "data": {
      "text/plain": [
       "0.5000000000000866"
      ]
     },
     "execution_count": 12,
     "metadata": {},
     "output_type": "execute_result"
    }
   ],
   "source": [
    "BS_binary_put(impliedVol,S,rGrow,r,K,T)"
   ]
  },
  {
   "cell_type": "markdown",
   "metadata": {},
   "source": [
    "## 1b.\n",
    "\n",
    "Long Gigantic Rebirth's Binary Put -> vega > 0 -> Long volatility "
   ]
  },
  {
   "cell_type": "markdown",
   "metadata": {
    "execution": {
     "iopub.execute_input": "2022-03-17T01:24:04.435142Z",
     "iopub.status.busy": "2022-03-17T01:24:04.434833Z",
     "iopub.status.idle": "2022-03-17T01:24:04.440050Z",
     "shell.execute_reply": "2022-03-17T01:24:04.438838Z",
     "shell.execute_reply.started": "2022-03-17T01:24:04.435110Z"
    }
   },
   "source": [
    "## Problem 3"
   ]
  },
  {
   "cell_type": "code",
   "execution_count": 13,
   "metadata": {
    "execution": {
     "iopub.execute_input": "2022-03-17T02:32:17.513418Z",
     "iopub.status.busy": "2022-03-17T02:32:17.512118Z",
     "iopub.status.idle": "2022-03-17T02:32:17.519498Z",
     "shell.execute_reply": "2022-03-17T02:32:17.518618Z",
     "shell.execute_reply.started": "2022-03-17T02:32:17.513388Z"
    },
    "tags": []
   },
   "outputs": [
    {
     "data": {
      "text/plain": [
       "0.0"
      ]
     },
     "execution_count": 13,
     "metadata": {},
     "output_type": "execute_result"
    }
   ],
   "source": [
    "S0 = 10\n",
    "S0*(2*norm.cdf(0)-1)"
   ]
  },
  {
   "cell_type": "code",
   "execution_count": 14,
   "metadata": {
    "execution": {
     "iopub.execute_input": "2022-03-17T02:32:17.523024Z",
     "iopub.status.busy": "2022-03-17T02:32:17.521830Z",
     "iopub.status.idle": "2022-03-17T02:32:17.533226Z",
     "shell.execute_reply": "2022-03-17T02:32:17.532489Z",
     "shell.execute_reply.started": "2022-03-17T02:32:17.522986Z"
    },
    "tags": []
   },
   "outputs": [
    {
     "data": {
      "text/plain": [
       "3.989422804014327"
      ]
     },
     "execution_count": 14,
     "metadata": {},
     "output_type": "execute_result"
    }
   ],
   "source": [
    "S0*np.sqrt(T)*norm.pdf(0)"
   ]
  },
  {
   "cell_type": "code",
   "execution_count": 15,
   "metadata": {
    "execution": {
     "iopub.execute_input": "2022-03-17T02:32:17.534629Z",
     "iopub.status.busy": "2022-03-17T02:32:17.534202Z",
     "iopub.status.idle": "2022-03-17T02:32:17.540843Z",
     "shell.execute_reply": "2022-03-17T02:32:17.540149Z",
     "shell.execute_reply.started": "2022-03-17T02:32:17.534599Z"
    },
    "tags": []
   },
   "outputs": [
    {
     "data": {
      "text/plain": [
       "4.440892098500626e-15"
      ]
     },
     "execution_count": 15,
     "metadata": {},
     "output_type": "execute_result"
    }
   ],
   "source": [
    "S0*(2*norm.cdf(1e-15*np.sqrt(T)/2)-1)"
   ]
  },
  {
   "cell_type": "code",
   "execution_count": 16,
   "metadata": {
    "execution": {
     "iopub.execute_input": "2022-03-17T02:32:17.542848Z",
     "iopub.status.busy": "2022-03-17T02:32:17.542472Z",
     "iopub.status.idle": "2022-03-17T02:32:17.549233Z",
     "shell.execute_reply": "2022-03-17T02:32:17.548398Z",
     "shell.execute_reply.started": "2022-03-17T02:32:17.542822Z"
    },
    "tags": []
   },
   "outputs": [
    {
     "data": {
      "text/plain": [
       "3.989422804014327e-15"
      ]
     },
     "execution_count": 16,
     "metadata": {},
     "output_type": "execute_result"
    }
   ],
   "source": [
    "S0*np.sqrt(T)*norm.pdf(0)*1e-15"
   ]
  },
  {
   "cell_type": "markdown",
   "metadata": {},
   "source": [
    "Close enough within O(1)"
   ]
  },
  {
   "cell_type": "markdown",
   "metadata": {},
   "source": [
    "## Problem 4"
   ]
  },
  {
   "cell_type": "code",
   "execution_count": 17,
   "metadata": {
    "execution": {
     "iopub.execute_input": "2022-03-17T02:32:17.552045Z",
     "iopub.status.busy": "2022-03-17T02:32:17.551077Z",
     "iopub.status.idle": "2022-03-17T02:32:17.556911Z",
     "shell.execute_reply": "2022-03-17T02:32:17.555714Z",
     "shell.execute_reply.started": "2022-03-17T02:32:17.552010Z"
    }
   },
   "outputs": [],
   "source": [
    "p4dynamics=Dynamics()\n",
    "p4dynamics.sigma = 0.70\n",
    "p4dynamics.S0 = 10\n",
    "p4dynamics.r = 0.02"
   ]
  },
  {
   "cell_type": "code",
   "execution_count": 18,
   "metadata": {
    "execution": {
     "iopub.execute_input": "2022-03-17T02:32:17.559455Z",
     "iopub.status.busy": "2022-03-17T02:32:17.558980Z",
     "iopub.status.idle": "2022-03-17T02:32:17.563903Z",
     "shell.execute_reply": "2022-03-17T02:32:17.563073Z",
     "shell.execute_reply.started": "2022-03-17T02:32:17.559432Z"
    },
    "tags": []
   },
   "outputs": [],
   "source": [
    "p4contract=Contract()\n",
    "p4contract.K1low = 10\n",
    "p4contract.K1mid = 11\n",
    "p4contract.K1high = 14\n",
    "p4contract.T0 = 0.5\n",
    "p4contract.T1 = 1.0\n",
    "p4contract.K0 = 12"
   ]
  },
  {
   "cell_type": "code",
   "execution_count": 19,
   "metadata": {
    "execution": {
     "iopub.execute_input": "2022-03-17T02:32:17.565977Z",
     "iopub.status.busy": "2022-03-17T02:32:17.565285Z",
     "iopub.status.idle": "2022-03-17T02:32:17.570198Z",
     "shell.execute_reply": "2022-03-17T02:32:17.569445Z",
     "shell.execute_reply.started": "2022-03-17T02:32:17.565944Z"
    },
    "tags": []
   },
   "outputs": [],
   "source": [
    "p4MC=MC()\n",
    "p4MC.M = 100000  # Number of paths\n",
    "p4MC.seed = 0  # Seeding the random number generator with a specified number helps make the calculations reproducible"
   ]
  },
  {
   "cell_type": "code",
   "execution_count": 20,
   "metadata": {
    "execution": {
     "iopub.execute_input": "2022-03-17T02:32:17.571764Z",
     "iopub.status.busy": "2022-03-17T02:32:17.571392Z",
     "iopub.status.idle": "2022-03-17T02:32:17.581308Z",
     "shell.execute_reply": "2022-03-17T02:32:17.580499Z",
     "shell.execute_reply.started": "2022-03-17T02:32:17.571742Z"
    },
    "tags": []
   },
   "outputs": [],
   "source": [
    "def price_twostep_contract(contract,dynamics,MC):\n",
    "\n",
    "    np.random.seed(MC.seed)  #seed the random number generator\n",
    "    \n",
    "    # You complete the coding of this function\n",
    "    \n",
    "    # ------------------------------------------\n",
    "    \n",
    "    K1low, K1mid, K1high = contract.K1low, contract.K1mid, contract.K1high\n",
    "    T0, T1, T0Barr = contract.T0, contract.T1, contract.K0\n",
    "    sigma, S0, r = dynamics.sigma, dynamics.S0, dynamics.r\n",
    "    M = MC.M\n",
    "    DEBUG = False\n",
    "    \n",
    "    # MC needs 2 time steps\n",
    "    # log(S)=X is normal. Simulate X.\n",
    "    X = np.ones(M)*np.log(S0)\n",
    "    \n",
    "    if DEBUG: print((r-sigma**2/2)*T0)\n",
    "    X_T0 =    X + (r-sigma**2/2)*T0 + sigma*np.sqrt(T0)*np.random.randn(M)\n",
    "    \n",
    "    # Increment X from T0->T1\n",
    "    dt = T1-T0\n",
    "    X_T1 = X_T0 + (r-sigma**2/2)*dt + sigma*np.sqrt(dt)*np.random.randn(M)\n",
    "    \n",
    "    if DEBUG: print(X, X_T0, X_T1, sep='\\n')\n",
    "    \n",
    "    # Transform back into prices\n",
    "    S, S_T0, S_T1 = (np.exp(x) for x in [X, X_T0, X_T1])\n",
    "    if DEBUG: print(S, S_T0, S_T1, sep='\\n')\n",
    "    \n",
    "    over_barr = S_T0>T0Barr # Check if S_0.5>12\n",
    "    over_K1high = S_T1>K1high # Check if S_1>14\n",
    "    over_mask = (over_barr | over_K1high) # OR meaning use high strike\n",
    "    neither_mask = ~over_mask # neither conditions meaning use low strike\n",
    "    \n",
    "    if DEBUG: print(over_barr.sum(), over_K1high.sum(), neither_mask.sum(), sep='\\n')\n",
    "    \n",
    "    C_over = np.maximum(S_T1[over_mask]-K1mid,0) # Struck at high K=11\n",
    "    C_neither = np.maximum(S_T1[neither_mask]-K1low,0) # Struck at low K=10\n",
    "    \n",
    "    C = np.append(C_over, C_neither) # Combined payoffs\n",
    "    C_0 = np.exp(-r*T1)*C # PV of payoff\n",
    "    if DEBUG: print(C)\n",
    "    \n",
    "    price = np.mean(C_0)\n",
    "    standard_error = np.std(C_0, ddof=1) / np.sqrt(M)\n",
    "    \n",
    "    return price, standard_error, C, S_T1\n",
    "    # ------------------------------------------        "
   ]
  },
  {
   "cell_type": "code",
   "execution_count": 21,
   "metadata": {
    "execution": {
     "iopub.execute_input": "2022-03-17T02:32:17.583134Z",
     "iopub.status.busy": "2022-03-17T02:32:17.582521Z",
     "iopub.status.idle": "2022-03-17T02:32:17.611853Z",
     "shell.execute_reply": "2022-03-17T02:32:17.611146Z",
     "shell.execute_reply.started": "2022-03-17T02:32:17.583102Z"
    },
    "tags": []
   },
   "outputs": [
    {
     "name": "stdout",
     "output_type": "stream",
     "text": [
      "2.555764775512144 0.019444258715870077\n"
     ]
    }
   ],
   "source": [
    "(price, standard_error, C, S) =  price_twostep_contract(p4contract,p4dynamics,p4MC)\n",
    "print(price, standard_error)"
   ]
  },
  {
   "cell_type": "code",
   "execution_count": 22,
   "metadata": {
    "execution": {
     "iopub.execute_input": "2022-03-17T02:32:17.614009Z",
     "iopub.status.busy": "2022-03-17T02:32:17.613577Z",
     "iopub.status.idle": "2022-03-17T02:32:17.997610Z",
     "shell.execute_reply": "2022-03-17T02:32:17.996744Z",
     "shell.execute_reply.started": "2022-03-17T02:32:17.613954Z"
    },
    "tags": []
   },
   "outputs": [
    {
     "data": {
      "image/png": "[encoded data removed]",
      "text/plain": [
       "<Figure size 1152x720 with 1 Axes>"
      ]
     },
     "metadata": {
      "needs_background": "light"
     },
     "output_type": "display_data"
    }
   ],
   "source": [
    "p = plt.hist(S, bins=100)\n",
    "plt.title(\"Distribution of S@t=1\")\n",
    "plt.axvline(11, color='r')\n",
    "plt.axvline(12, color='r')\n",
    "plt.show()"
   ]
  },
  {
   "cell_type": "code",
   "execution_count": 23,
   "metadata": {
    "execution": {
     "iopub.execute_input": "2022-03-17T02:32:17.999871Z",
     "iopub.status.busy": "2022-03-17T02:32:17.999352Z",
     "iopub.status.idle": "2022-03-17T02:32:18.362290Z",
     "shell.execute_reply": "2022-03-17T02:32:18.361478Z",
     "shell.execute_reply.started": "2022-03-17T02:32:17.999842Z"
    },
    "tags": []
   },
   "outputs": [
    {
     "data": {
      "image/png": "[encoded data removed]",
      "text/plain": [
       "<Figure size 1152x720 with 1 Axes>"
      ]
     },
     "metadata": {
      "needs_background": "light"
     },
     "output_type": "display_data"
    }
   ],
   "source": [
    "p = plt.hist(C, bins=100)\n",
    "plt.title(\"Distribution of C@t=1\")\n",
    "plt.show()"
   ]
  },
  {
   "cell_type": "code",
   "execution_count": null,
   "metadata": {},
   "outputs": [],
   "source": []
  }
 ],
 "metadata": {
  "anaconda-cloud": {},
  "kernelspec": {
   "display_name": "Python 3 (ipykernel)",
   "language": "python",
   "name": "python3"
  },
  "language_info": {
   "codemirror_mode": {
    "name": "ipython",
    "version": 3
   },
   "file_extension": ".py",
   "mimetype": "text/x-python",
   "name": "python",
   "nbconvert_exporter": "python",
   "pygments_lexer": "ipython3",
   "version": "3.9.10"
  }
 },
 "nbformat": 4,
 "nbformat_minor": 4
}
