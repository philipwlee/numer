{
 "cells": [
  {
   "cell_type": "markdown",
   "metadata": {},
   "source": [
    "# There are action items in the final 3 cells of this notebook"
   ]
  },
  {
   "cell_type": "code",
   "execution_count": 3,
   "metadata": {
    "execution": {
     "iopub.execute_input": "2022-03-16T16:16:04.173580Z",
     "iopub.status.busy": "2022-03-16T16:16:04.173319Z",
     "iopub.status.idle": "2022-03-16T16:16:05.534934Z",
     "shell.execute_reply": "2022-03-16T16:16:05.534138Z",
     "shell.execute_reply.started": "2022-03-16T16:16:04.173557Z"
    }
   },
   "outputs": [],
   "source": [
    "import numpy as np\n",
    "from scipy.stats import norm\n",
    "from scipy.optimize import bisect"
   ]
  },
  {
   "cell_type": "code",
   "execution_count": 4,
   "metadata": {
    "execution": {
     "iopub.execute_input": "2022-03-16T16:16:05.537136Z",
     "iopub.status.busy": "2022-03-16T16:16:05.536693Z",
     "iopub.status.idle": "2022-03-16T16:16:05.546286Z",
     "shell.execute_reply": "2022-03-16T16:16:05.545086Z",
     "shell.execute_reply.started": "2022-03-16T16:16:05.537066Z"
    }
   },
   "outputs": [],
   "source": [
    "def impliedvol(K):\n",
    "    return 0.3"
   ]
  },
  {
   "cell_type": "code",
   "execution_count": 9,
   "metadata": {
    "execution": {
     "iopub.execute_input": "2022-03-16T16:17:57.874146Z",
     "iopub.status.busy": "2022-03-16T16:17:57.873894Z",
     "iopub.status.idle": "2022-03-16T16:17:57.884524Z",
     "shell.execute_reply": "2022-03-16T16:17:57.882562Z",
     "shell.execute_reply.started": "2022-03-16T16:17:57.874123Z"
    },
    "tags": []
   },
   "outputs": [],
   "source": [
    "# S is spot price of underlying, T is time remaining.\n",
    "def BSdelta(K,S,r,T):\n",
    "    sigma = impliedvol(K)    \n",
    "    #Use sigma, K, S, r, T, to calculate and return the delta of the Call option\n",
    "    # FILL THIS IN...\n",
    "    return norm.cdf((np.log(S/K)+(r+sigma**2/2)*(T))/(sigma*T**0.5))\n",
    "    "
   ]
  },
  {
   "cell_type": "code",
   "execution_count": 12,
   "metadata": {
    "execution": {
     "iopub.execute_input": "2022-03-16T16:18:22.159419Z",
     "iopub.status.busy": "2022-03-16T16:18:22.159165Z",
     "iopub.status.idle": "2022-03-16T16:18:22.169957Z",
     "shell.execute_reply": "2022-03-16T16:18:22.169015Z",
     "shell.execute_reply.started": "2022-03-16T16:18:22.159396Z"
    },
    "tags": []
   },
   "outputs": [],
   "source": [
    "# Find and fix the BUG (coding error) in this cell.\n",
    "# Your fix should preserve the approach that the code is trying to do.\n",
    "# Your fix should not introduce a new approach.\n",
    "\n",
    "def StrikeGivenDelta(delta,S,r,T):\n",
    "#Calculate the strike of a Call option, given the delta\n",
    "    \n",
    "    if delta<0:\n",
    "        return np.nan\n",
    "    if delta==1:\n",
    "        return 0\n",
    "    if delta>1:\n",
    "        return np.nan\n",
    "\n",
    "    # Search for Klow and Khigh, such that the strike is somewhere in the interval [Klow,Khigh],\n",
    "    Khigh=S\n",
    "    while BSdelta(Khigh,S,r,T)<delta:\n",
    "        Khigh=Khigh/2\n",
    "    while BSdelta(Khigh,S,r,T)>delta:\n",
    "        Khigh=Khigh*2\n",
    "    Klow=Khigh/2\n",
    "    \n",
    "    # Use scipy.optimize.bisect to calculate the strike within the interval [Klow,Khigh]\n",
    "    strike = bisect(lambda K: BSdelta(K,S,r,T)-delta,Klow,Khigh) # The bug is not in this line\n",
    "    return strike"
   ]
  },
  {
   "cell_type": "code",
   "execution_count": 13,
   "metadata": {
    "execution": {
     "iopub.execute_input": "2022-03-16T16:18:23.177533Z",
     "iopub.status.busy": "2022-03-16T16:18:23.177044Z",
     "iopub.status.idle": "2022-03-16T16:18:23.207304Z",
     "shell.execute_reply": "2022-03-16T16:18:23.206136Z",
     "shell.execute_reply.started": "2022-03-16T16:18:23.177496Z"
    },
    "tags": []
   },
   "outputs": [
    {
     "name": "stdout",
     "output_type": "stream",
     "text": [
      "426.0089716536825\n"
     ]
    }
   ],
   "source": [
    "# Now use the StrikeGivenDelta function to find the desired strike numerically\n",
    "S = 400\n",
    "T = 1/12\n",
    "r = 0.01\n",
    "delta = 0.25\n",
    "\n",
    "K = StrikeGivenDelta(delta,S,r,T)\n",
    "print(K)"
   ]
  },
  {
   "cell_type": "code",
   "execution_count": null,
   "metadata": {},
   "outputs": [],
   "source": []
  }
 ],
 "metadata": {
  "anaconda-cloud": {},
  "kernelspec": {
   "display_name": "Python 3 (ipykernel)",
   "language": "python",
   "name": "python3"
  },
  "language_info": {
   "codemirror_mode": {
    "name": "ipython",
    "version": 3
   },
   "file_extension": ".py",
   "mimetype": "text/x-python",
   "name": "python",
   "nbconvert_exporter": "python",
   "pygments_lexer": "ipython3",
   "version": "3.9.10"
  }
 },
 "nbformat": 4,
 "nbformat_minor": 4
}
