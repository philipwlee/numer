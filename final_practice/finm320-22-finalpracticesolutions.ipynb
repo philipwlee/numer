{
 "cells": [
  {
   "cell_type": "markdown",
   "metadata": {},
   "source": [
    "# There are action items in the final 3 cells of this notebook"
   ]
  },
  {
   "cell_type": "code",
   "execution_count": 1,
   "metadata": {},
   "outputs": [],
   "source": [
    "import numpy as np\n",
    "from scipy.stats import norm\n",
    "from scipy.optimize import bisect"
   ]
  },
  {
   "cell_type": "code",
   "execution_count": 2,
   "metadata": {},
   "outputs": [],
   "source": [
    "def impliedvol(K):\n",
    "    return 0.3"
   ]
  },
  {
   "cell_type": "code",
   "execution_count": 3,
   "metadata": {},
   "outputs": [],
   "source": [
    "# S is spot price of underlying, T is time remaining.\n",
    "def BSdelta(K,S,r,T):\n",
    "    sigma = impliedvol(K)    \n",
    "    #Use sigma, K, S, r, T, to calculate and return the delta of the Call option\n",
    "    # FILL THIS IN...\n",
    "    return norm.cdf((np.log(S/K) + r*T + 0.5*sigma**2*T) / (sigma*T**0.5))"
   ]
  },
  {
   "cell_type": "code",
   "execution_count": 4,
   "metadata": {},
   "outputs": [],
   "source": [
    "# Find and fix the BUG (coding error) in this cell.\n",
    "# Your fix should preserve the approach that the code is trying to do.\n",
    "# Your fix should not introduce a new approach.\n",
    "\n",
    "def StrikeGivenDelta(delta,S,r,T):\n",
    "#Calculate the strike of a Call option, given the delta\n",
    "    \n",
    "    if delta<0:\n",
    "        return np.nan\n",
    "    if delta==1:\n",
    "        return 0\n",
    "    if delta>1:\n",
    "        return np.nan\n",
    "\n",
    "    # Search for Klow and Khigh, such that the strike is somewhere in the interval [Klow,Khigh],\n",
    "    Khigh=S\n",
    "    while BSdelta(Khigh,S,r,T)<delta:  #INSTEAD OF: >delta.  Delta of a call increases when K decreases \n",
    "        Khigh=Khigh/2\n",
    "    while BSdelta(Khigh,S,r,T)>delta:  #INSTEAD OF: <delta.  Delta of a call decreases when K increases\n",
    "        Khigh=Khigh*2\n",
    "  \n",
    "    Klow=Khigh/2\n",
    "    \n",
    "    # Use scipy.optimize.bisect to calculate the strike within the interval [Klow,Khigh]\n",
    "    strike = bisect(lambda K: BSdelta(K,S,r,T)-delta,Klow,Khigh) # The bug is not in this line\n",
    "    return strike"
   ]
  },
  {
   "cell_type": "code",
   "execution_count": 5,
   "metadata": {},
   "outputs": [
    {
     "data": {
      "text/plain": [
       "426.0089716536825"
      ]
     },
     "execution_count": 5,
     "metadata": {},
     "output_type": "execute_result"
    }
   ],
   "source": [
    "# Now use the StrikeGivenDelta function to find the desired strike numerically\n",
    "StrikeGivenDelta(0.25, 400, 0.01, 1/12)"
   ]
  },
  {
   "cell_type": "code",
   "execution_count": 6,
   "metadata": {},
   "outputs": [
    {
     "data": {
      "text/plain": [
       "379.03757953585426"
      ]
     },
     "execution_count": 6,
     "metadata": {},
     "output_type": "execute_result"
    }
   ],
   "source": [
    "StrikeGivenDelta(0.75, 400, 0.01, 1/12)"
   ]
  }
 ],
 "metadata": {
  "anaconda-cloud": {},
  "kernelspec": {
   "display_name": "Python 3",
   "language": "python",
   "name": "python3"
  },
  "language_info": {
   "codemirror_mode": {
    "name": "ipython",
    "version": 3
   },
   "file_extension": ".py",
   "mimetype": "text/x-python",
   "name": "python",
   "nbconvert_exporter": "python",
   "pygments_lexer": "ipython3",
   "version": "3.8.8"
  },
  "toc": {
   "base_numbering": 1,
   "nav_menu": {},
   "number_sections": true,
   "sideBar": true,
   "skip_h1_title": false,
   "title_cell": "Table of Contents",
   "title_sidebar": "Contents",
   "toc_cell": false,
   "toc_position": {},
   "toc_section_display": true,
   "toc_window_display": false
  }
 },
 "nbformat": 4,
 "nbformat_minor": 1
}
